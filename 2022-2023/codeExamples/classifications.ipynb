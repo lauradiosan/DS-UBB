{
  "nbformat": 4,
  "nbformat_minor": 0,
  "metadata": {
    "colab": {
      "provenance": []
    },
    "kernelspec": {
      "name": "python3",
      "display_name": "Python 3.7.2 64-bit ('myenv': venv)"
    },
    "language_info": {
      "codemirror_mode": {
        "name": "ipython",
        "version": 3
      },
      "file_extension": ".py",
      "mimetype": "text/x-python",
      "name": "python",
      "nbconvert_exporter": "python",
      "pygments_lexer": "ipython3",
      "version": "3.7.2"
    },
    "interpreter": {
      "hash": "e9dc543f66030a8dac45661f55ca2fb15f567084184f0424c1f0b6ed578c96be"
    }
  },
  "cells": [
    {
      "cell_type": "markdown",
      "source": [
        "# Exemplificare probleme de clasificare \n",
        "\n",
        "Se doreste identificarea tipului de tesut mamar pe baza unor masuratori bioelectrice (e.g. I0  - impedanta la frecventa 0, MaxIP - spectrul maxim, Area - Aria de sub spectru, etc.)\n",
        "\n",
        "\n"
      ],
      "metadata": {
        "id": "0ezA3x3nfKxU"
      }
    },
    {
      "cell_type": "markdown",
      "source": [
        "## setup preparation"
      ],
      "metadata": {
        "id": "Sw1trZN0nYq2"
      }
    },
    {
      "cell_type": "code",
      "execution_count": 1,
      "source": [
        "#@title run the code below for prerequisites\n",
        "\n",
        "from sklearn.neighbors import KNeighborsClassifier\n",
        "from sklearn.tree import DecisionTreeClassifier\n",
        "import numpy as np\n",
        "from sklearn import tree\n",
        "from sklearn import linear_model\n",
        "from sklearn.metrics import accuracy_score\n",
        "from sklearn.metrics import mean_squared_error\n",
        "\n",
        "import csv\n",
        "import matplotlib.pyplot as plt \n",
        "import os\n",
        "import io\n",
        "import requests\n",
        "import pandas as pd\n",
        "\n",
        "\n",
        "def loadData(fileName, featureNames, outputVariabName):\n",
        "    data = []\n",
        "    dataNames = []\n",
        "    csv_reader = csv.reader(fileName, delimiter=',')\n",
        "    line_count = 0\n",
        "    for row in csv_reader:\n",
        "        if line_count == 0:\n",
        "            dataNames = row\n",
        "        else:\n",
        "            data.append(row)\n",
        "        line_count += 1\n",
        "    inputs = []\n",
        "    for i in range(len(data)):\n",
        "        crtExample = []\n",
        "        for feature in featureNames:\n",
        "            selectedVariable = dataNames.index(feature)\n",
        "            crtExample.append(data[i][selectedVariable])\n",
        "        inputs.append(crtExample)\n",
        "        \n",
        "    selectedOutput = dataNames.index(outputVariabName)\n",
        "    outputs = []\n",
        "    for i in range(len(data)):\n",
        "        outputs.append(data[i][selectedOutput])\n",
        "    \n",
        "    return inputs, outputs\n",
        "\n",
        "\n",
        "def fromStringToNumericData(values):\n",
        "    if isinstance(values[0], list):\n",
        "        aux = []\n",
        "        for i in range(len(values)):\n",
        "            line = []\n",
        "            for j in range(len(values[i])):\n",
        "                line.append(float(values[i][j]))\n",
        "            aux.append(line)\n",
        "        return aux\n",
        "    else:\n",
        "        aux = []\n",
        "        for i in range(len(values)):\n",
        "            aux.append(float(values[i]))\n",
        "        return aux\n",
        "\n",
        "def getFeature(data, pos):\n",
        "    values = []\n",
        "    for i in range(len(data)):\n",
        "        values.append(data[i][pos])\n",
        "    return values\n",
        "\n",
        "def plotHistograms(inputs, outputs):\n",
        "    noFeatures = len(inputs[0])\n",
        "    fig, ax = plt.subplots(1, noFeatures + 1,  figsize=(4 * (noFeatures + 1), 4))\n",
        "    for i in range(noFeatures):\n",
        "        crtFeatureValues = getFeature(inputs, i)\n",
        "        ax[i].hist(crtFeatureValues, 10, color = 'r')\n",
        "        ax[i].title.set_text('histogram of ' + featureNames[i])\n",
        "    ax[noFeatures].hist(outputs, 10, color = 'g')\n",
        "    ax[noFeatures].title.set_text('histogram of ' + outputName)\n",
        "\n",
        "    plt.show()\n",
        "\n",
        "\n",
        "def plotClassificationData(inputs, outputs, featureNames):\n",
        "    noExamples = len(inputs)\n",
        "    labels = set(outputs)\n",
        "    noData = len(inputs)\n",
        "    for crtLabel in labels:\n",
        "        x = [inputs[i][0] for i in range(noExamples) if outputs[i] == crtLabel ]\n",
        "        y = [inputs[i][1] for i in range(noExamples) if outputs[i] == crtLabel ]\n",
        "        plt.scatter(x, y, label = crtLabel)\n",
        "    plt.xlabel(featureNames[0])\n",
        "    plt.ylabel(featureNames[1])\n",
        "    plt.legend()\n",
        "    plt.show()  \n",
        "\n",
        "\n",
        "def plotPredictions(feature1, feature2, realOutputs, computedOutputs, title, featureNames, labels):\n",
        "    noData = len(feature1)\n",
        "    for crtLabel in labels:\n",
        "        x = [feature1[i] for i in range(noData) if realOutputs[i] == crtLabel and computedOutputs[i] == crtLabel ]\n",
        "        y = [feature2[i] for i in range(noData) if realOutputs[i] == crtLabel and computedOutputs[i] == crtLabel]\n",
        "        plt.scatter(x, y, label = crtLabel + ' (correct)')\n",
        "    for crtLabel in labels:\n",
        "        x = [feature1[i] for i in range(noData) if realOutputs[i] == crtLabel and computedOutputs[i] != crtLabel ]\n",
        "        y = [feature2[i] for i in range(noData) if realOutputs[i] == crtLabel and computedOutputs[i] != crtLabel]\n",
        "        plt.scatter(x, y, label = crtLabel + ' (incorrect)')\n",
        "    plt.xlabel(featureNames[0])\n",
        "    plt.ylabel(featureNames[1])\n",
        "    plt.legend()\n",
        "    plt.title(title)\n",
        "    plt.show()\n",
        "       \n",
        "def plotADecisionTree(clf):\n",
        "  n_nodes = clf.tree_.node_count\n",
        "  children_left = clf.tree_.children_left\n",
        "  children_right = clf.tree_.children_right\n",
        "  feature = clf.tree_.feature\n",
        "  threshold = clf.tree_.threshold\n",
        "\n",
        "  node_depth = np.zeros(shape=n_nodes, dtype=np.int64)\n",
        "  is_leaves = np.zeros(shape=n_nodes, dtype=bool)\n",
        "  stack = [(0, 0)]  # start with the root node id (0) and its depth (0)\n",
        "  while len(stack) > 0:\n",
        "      # `pop` ensures each node is only visited once\n",
        "      node_id, depth = stack.pop()\n",
        "      node_depth[node_id] = depth\n",
        "\n",
        "      # If the left and right child of a node is not the same we have a split\n",
        "      # node\n",
        "      is_split_node = children_left[node_id] != children_right[node_id]\n",
        "      # If a split node, append left and right children and depth to `stack`\n",
        "      # so we can loop through them\n",
        "      if is_split_node:\n",
        "          stack.append((children_left[node_id], depth + 1))\n",
        "          stack.append((children_right[node_id], depth + 1))\n",
        "      else:\n",
        "          is_leaves[node_id] = True\n",
        "\n",
        "  # print(\"The binary tree structure has {n} nodes and has \"\n",
        "  #       \"the following tree structure:\\n\".format(n=n_nodes))\n",
        "  # for i in range(n_nodes):\n",
        "  #     if is_leaves[i]:\n",
        "  #         print(\"{space}node={node} is a leaf node.\".format(\n",
        "  #             space=node_depth[i] * \"\\t\", node=i))\n",
        "  #     else:\n",
        "  #         print(\"{space}node={node} is a split node: \"\n",
        "  #               \"go to node {left} if X[:, {feature}] <= {threshold} \"\n",
        "  #               \"else to node {right}.\".format(\n",
        "  #                   space=node_depth[i] * \"\\t\",\n",
        "  #                   node=i,\n",
        "  #                   left=children_left[i],\n",
        "  #                   feature=feature[i],\n",
        "  #                   threshold=threshold[i],\n",
        "  #                   right=children_right[i]))\n",
        "          \n",
        "  tree.plot_tree(clf)\n",
        "  plt.show()\n",
        "\n",
        "\n",
        "print(\"setup is ready...\")"
      ],
      "outputs": [
        {
          "output_type": "stream",
          "name": "stdout",
          "text": [
            "setup is ready...\n"
          ]
        }
      ],
      "metadata": {
        "colab": {
          "base_uri": "https://localhost:8080/"
        },
        "id": "wTUuGkuOnYq2",
        "outputId": "e0548514-a0d7-4b7f-cea6-574273003cd8"
      }
    },
    {
      "cell_type": "markdown",
      "source": [
        "## Scenariul 1: predictia tipului de tesut (normal sau patologic) pe baza caracteristicilor MaxIP si Area\n",
        "\n",
        "Proces:\n",
        "- Se pleaca de la un set de date format din masuratorile bioelectrice asociate unor probe de tesut mamar  si etichetele asociate lor\n",
        "- se aleg anumite caracteristici dintre aceste masuratori (drept variabile independente) precum MaxIP si Area\n",
        "- Se aplica algoritmul de invatare pe setul de antrenament\n",
        "- Se realizeaza predictii pentru noi mesaje (= se eticheteaza noi mesaje)"
      ],
      "metadata": {
        "id": "y9RbCJy_EYCW"
      }
    },
    {
      "cell_type": "code",
      "execution_count": 2,
      "source": [
        "#@title run the code below to inspect the raw data\n",
        "\n",
        "import requests\n",
        "import io\n",
        "import pandas as pd\n",
        "\n",
        "url = 'http://www.cs.ubbcluj.ro/~lauras/test/docs/docum/breastCancerBin.csv'\n",
        "r = requests.get(url)\n",
        "filePath = io.StringIO(r.text)\n",
        "\n",
        "dataCrt = pd.read_csv(filePath)\n",
        "dataCrt.head()"
      ],
      "outputs": [
        {
          "output_type": "execute_result",
          "data": {
            "text/plain": [
              "   Case#         Class          I0     PA500       HFS          DA  \\\n",
              "0      1  pathological  524.794072  0.187448  0.032114  228.800228   \n",
              "1      2  pathological  330.000000  0.226893  0.265290  121.154201   \n",
              "2      3  pathological  551.879287  0.232478  0.063530  264.804935   \n",
              "3      4  pathological  380.000000  0.240855  0.286234  137.640111   \n",
              "4      5  pathological  362.831266  0.200713  0.244346  124.912559   \n",
              "\n",
              "           Area       A/DA      MaxIP          DR           P  \n",
              "0   6843.598481  29.910803  60.204880  220.737212  556.828334  \n",
              "1   3163.239472  26.109202  69.717361   99.084964  400.225776  \n",
              "2  11888.391830  44.894903  77.793297  253.785300  656.769449  \n",
              "3   5402.171180  39.248524  88.758446  105.198568  493.701814  \n",
              "4   3290.462446  26.342127  69.389389  103.866552  424.796503  "
            ],
            "text/html": [
              "\n",
              "  <div id=\"df-16eddcc9-15aa-488f-8972-c1ae6c65a709\">\n",
              "    <div class=\"colab-df-container\">\n",
              "      <div>\n",
              "<style scoped>\n",
              "    .dataframe tbody tr th:only-of-type {\n",
              "        vertical-align: middle;\n",
              "    }\n",
              "\n",
              "    .dataframe tbody tr th {\n",
              "        vertical-align: top;\n",
              "    }\n",
              "\n",
              "    .dataframe thead th {\n",
              "        text-align: right;\n",
              "    }\n",
              "</style>\n",
              "<table border=\"1\" class=\"dataframe\">\n",
              "  <thead>\n",
              "    <tr style=\"text-align: right;\">\n",
              "      <th></th>\n",
              "      <th>Case#</th>\n",
              "      <th>Class</th>\n",
              "      <th>I0</th>\n",
              "      <th>PA500</th>\n",
              "      <th>HFS</th>\n",
              "      <th>DA</th>\n",
              "      <th>Area</th>\n",
              "      <th>A/DA</th>\n",
              "      <th>MaxIP</th>\n",
              "      <th>DR</th>\n",
              "      <th>P</th>\n",
              "    </tr>\n",
              "  </thead>\n",
              "  <tbody>\n",
              "    <tr>\n",
              "      <th>0</th>\n",
              "      <td>1</td>\n",
              "      <td>pathological</td>\n",
              "      <td>524.794072</td>\n",
              "      <td>0.187448</td>\n",
              "      <td>0.032114</td>\n",
              "      <td>228.800228</td>\n",
              "      <td>6843.598481</td>\n",
              "      <td>29.910803</td>\n",
              "      <td>60.204880</td>\n",
              "      <td>220.737212</td>\n",
              "      <td>556.828334</td>\n",
              "    </tr>\n",
              "    <tr>\n",
              "      <th>1</th>\n",
              "      <td>2</td>\n",
              "      <td>pathological</td>\n",
              "      <td>330.000000</td>\n",
              "      <td>0.226893</td>\n",
              "      <td>0.265290</td>\n",
              "      <td>121.154201</td>\n",
              "      <td>3163.239472</td>\n",
              "      <td>26.109202</td>\n",
              "      <td>69.717361</td>\n",
              "      <td>99.084964</td>\n",
              "      <td>400.225776</td>\n",
              "    </tr>\n",
              "    <tr>\n",
              "      <th>2</th>\n",
              "      <td>3</td>\n",
              "      <td>pathological</td>\n",
              "      <td>551.879287</td>\n",
              "      <td>0.232478</td>\n",
              "      <td>0.063530</td>\n",
              "      <td>264.804935</td>\n",
              "      <td>11888.391830</td>\n",
              "      <td>44.894903</td>\n",
              "      <td>77.793297</td>\n",
              "      <td>253.785300</td>\n",
              "      <td>656.769449</td>\n",
              "    </tr>\n",
              "    <tr>\n",
              "      <th>3</th>\n",
              "      <td>4</td>\n",
              "      <td>pathological</td>\n",
              "      <td>380.000000</td>\n",
              "      <td>0.240855</td>\n",
              "      <td>0.286234</td>\n",
              "      <td>137.640111</td>\n",
              "      <td>5402.171180</td>\n",
              "      <td>39.248524</td>\n",
              "      <td>88.758446</td>\n",
              "      <td>105.198568</td>\n",
              "      <td>493.701814</td>\n",
              "    </tr>\n",
              "    <tr>\n",
              "      <th>4</th>\n",
              "      <td>5</td>\n",
              "      <td>pathological</td>\n",
              "      <td>362.831266</td>\n",
              "      <td>0.200713</td>\n",
              "      <td>0.244346</td>\n",
              "      <td>124.912559</td>\n",
              "      <td>3290.462446</td>\n",
              "      <td>26.342127</td>\n",
              "      <td>69.389389</td>\n",
              "      <td>103.866552</td>\n",
              "      <td>424.796503</td>\n",
              "    </tr>\n",
              "  </tbody>\n",
              "</table>\n",
              "</div>\n",
              "      <button class=\"colab-df-convert\" onclick=\"convertToInteractive('df-16eddcc9-15aa-488f-8972-c1ae6c65a709')\"\n",
              "              title=\"Convert this dataframe to an interactive table.\"\n",
              "              style=\"display:none;\">\n",
              "        \n",
              "  <svg xmlns=\"http://www.w3.org/2000/svg\" height=\"24px\"viewBox=\"0 0 24 24\"\n",
              "       width=\"24px\">\n",
              "    <path d=\"M0 0h24v24H0V0z\" fill=\"none\"/>\n",
              "    <path d=\"M18.56 5.44l.94 2.06.94-2.06 2.06-.94-2.06-.94-.94-2.06-.94 2.06-2.06.94zm-11 1L8.5 8.5l.94-2.06 2.06-.94-2.06-.94L8.5 2.5l-.94 2.06-2.06.94zm10 10l.94 2.06.94-2.06 2.06-.94-2.06-.94-.94-2.06-.94 2.06-2.06.94z\"/><path d=\"M17.41 7.96l-1.37-1.37c-.4-.4-.92-.59-1.43-.59-.52 0-1.04.2-1.43.59L10.3 9.45l-7.72 7.72c-.78.78-.78 2.05 0 2.83L4 21.41c.39.39.9.59 1.41.59.51 0 1.02-.2 1.41-.59l7.78-7.78 2.81-2.81c.8-.78.8-2.07 0-2.86zM5.41 20L4 18.59l7.72-7.72 1.47 1.35L5.41 20z\"/>\n",
              "  </svg>\n",
              "      </button>\n",
              "      \n",
              "  <style>\n",
              "    .colab-df-container {\n",
              "      display:flex;\n",
              "      flex-wrap:wrap;\n",
              "      gap: 12px;\n",
              "    }\n",
              "\n",
              "    .colab-df-convert {\n",
              "      background-color: #E8F0FE;\n",
              "      border: none;\n",
              "      border-radius: 50%;\n",
              "      cursor: pointer;\n",
              "      display: none;\n",
              "      fill: #1967D2;\n",
              "      height: 32px;\n",
              "      padding: 0 0 0 0;\n",
              "      width: 32px;\n",
              "    }\n",
              "\n",
              "    .colab-df-convert:hover {\n",
              "      background-color: #E2EBFA;\n",
              "      box-shadow: 0px 1px 2px rgba(60, 64, 67, 0.3), 0px 1px 3px 1px rgba(60, 64, 67, 0.15);\n",
              "      fill: #174EA6;\n",
              "    }\n",
              "\n",
              "    [theme=dark] .colab-df-convert {\n",
              "      background-color: #3B4455;\n",
              "      fill: #D2E3FC;\n",
              "    }\n",
              "\n",
              "    [theme=dark] .colab-df-convert:hover {\n",
              "      background-color: #434B5C;\n",
              "      box-shadow: 0px 1px 3px 1px rgba(0, 0, 0, 0.15);\n",
              "      filter: drop-shadow(0px 1px 2px rgba(0, 0, 0, 0.3));\n",
              "      fill: #FFFFFF;\n",
              "    }\n",
              "  </style>\n",
              "\n",
              "      <script>\n",
              "        const buttonEl =\n",
              "          document.querySelector('#df-16eddcc9-15aa-488f-8972-c1ae6c65a709 button.colab-df-convert');\n",
              "        buttonEl.style.display =\n",
              "          google.colab.kernel.accessAllowed ? 'block' : 'none';\n",
              "\n",
              "        async function convertToInteractive(key) {\n",
              "          const element = document.querySelector('#df-16eddcc9-15aa-488f-8972-c1ae6c65a709');\n",
              "          const dataTable =\n",
              "            await google.colab.kernel.invokeFunction('convertToInteractive',\n",
              "                                                     [key], {});\n",
              "          if (!dataTable) return;\n",
              "\n",
              "          const docLinkHtml = 'Like what you see? Visit the ' +\n",
              "            '<a target=\"_blank\" href=https://colab.research.google.com/notebooks/data_table.ipynb>data table notebook</a>'\n",
              "            + ' to learn more about interactive tables.';\n",
              "          element.innerHTML = '';\n",
              "          dataTable['output_type'] = 'display_data';\n",
              "          await google.colab.output.renderOutput(dataTable, element);\n",
              "          const docLink = document.createElement('div');\n",
              "          docLink.innerHTML = docLinkHtml;\n",
              "          element.appendChild(docLink);\n",
              "        }\n",
              "      </script>\n",
              "    </div>\n",
              "  </div>\n",
              "  "
            ]
          },
          "metadata": {},
          "execution_count": 2
        }
      ],
      "metadata": {
        "cellView": "form",
        "colab": {
          "base_uri": "https://localhost:8080/",
          "height": 206
        },
        "id": "EIbGXG2C7gL_",
        "outputId": "800d4228-bb31-4fab-a4d0-a9b99441e84e"
      }
    },
    {
      "cell_type": "markdown",
      "source": [
        "### Specificarea problemei\n",
        "- stabilirea caracteristicilor (date de intrare) - MaxIP si Area\n",
        "- stabilirea valorilor care trebuie prezise (date de iesire) - tipul de tesut (normal sau patologic)"
      ],
      "metadata": {
        "id": "MJR3nOwjElCt"
      }
    },
    {
      "cell_type": "code",
      "execution_count": 3,
      "source": [
        "#@title run the code below for setting the input data and the output data\n",
        "# first use case: predict the type of tissue (connective, adipose, glandular, carcinoma, fibro-adenoma, mastopathy) based on MaxIP and Area\n",
        "noFeatures = 2\n",
        "featureNames = ['MaxIP', 'Area']\n",
        "outputName = 'Class'"
      ],
      "outputs": [],
      "metadata": {
        "cellView": "form",
        "id": "_6TmEhItfRgn"
      }
    },
    {
      "cell_type": "markdown",
      "source": [
        "### Incarcarea si auditarea datelor"
      ],
      "metadata": {
        "id": "g9Yf3qFBBPhq"
      }
    },
    {
      "cell_type": "code",
      "execution_count": 4,
      "source": [
        "#@title run the code below for loading and auditing the data\n",
        "\n",
        "url = 'http://www.cs.ubbcluj.ro/~lauras/test/docs/docum/breastCancerBin.csv'\n",
        "r = requests.get(url)\n",
        "filePath = io.StringIO(r.text)\n",
        "\n",
        "\n",
        "inputs, outputs = loadData(filePath, featureNames, outputName)\n",
        "inputs = fromStringToNumericData(inputs)\n",
        "\n",
        "# audit the data\n",
        "plotHistograms(inputs, outputs)\n",
        "if (noFeatures == 2):\n",
        "    plotClassificationData(inputs, outputs, featureNames)"
      ],
      "outputs": [
        {
          "output_type": "display_data",
          "data": {
            "text/plain": [
              "<Figure size 864x288 with 3 Axes>"
            ],
            "image/png": "[encoded data removed]"
          },
          "metadata": {
            "needs_background": "light"
          }
        },
        {
          "output_type": "display_data",
          "data": {
            "text/plain": [
              "<Figure size 432x288 with 1 Axes>"
            ],
            "image/png": "[encoded data removed]"
          },
          "metadata": {
            "needs_background": "light"
          }
        }
      ],
      "metadata": {
        "cellView": "form",
        "colab": {
          "base_uri": "https://localhost:8080/",
          "height": 543
        },
        "id": "jKNrr5DFA_db",
        "outputId": "59a241b2-9fc5-413f-e4b0-0036e77a23a8"
      }
    },
    {
      "cell_type": "markdown",
      "source": [
        "### Antrenarea unui model de predictie"
      ],
      "metadata": {
        "id": "4lv6dnCZE5dO"
      }
    },
    {
      "cell_type": "code",
      "execution_count": 5,
      "source": [
        "#@title run the code below for training the classifier; the training error will be printed\n",
        "classifier1 = linear_model.LogisticRegression()\n",
        "classifier1.fit(inputs, outputs)\n",
        "computedOutputs = classifier1.predict(inputs)\n",
        "error = 1 - accuracy_score(outputs, computedOutputs)\n",
        "print(\"classification training error: \", error)"
      ],
      "outputs": [
        {
          "output_type": "stream",
          "name": "stdout",
          "text": [
            "classification training error:  0.30188679245283023\n"
          ]
        }
      ],
      "metadata": {
        "colab": {
          "base_uri": "https://localhost:8080/"
        },
        "id": "aelQYiKd73Lc",
        "cellView": "form",
        "outputId": "d3d6d57c-22f8-43c1-eb53-818bdd4270a8"
      }
    },
    {
      "cell_type": "markdown",
      "source": [
        "### Utilizarea unui model de predictie"
      ],
      "metadata": {
        "id": "DzmVCtxHFZot"
      }
    },
    {
      "cell_type": "code",
      "execution_count": 6,
      "source": [
        "#@title run the code below from preparing sone testing data\n",
        "\n",
        "# normal, pathological, normal\n",
        "testData = [[59.5, 280.5], [61, 3039.5], [60, 305]]"
      ],
      "outputs": [],
      "metadata": {
        "id": "WHwQ9HeZ8YKi",
        "cellView": "form"
      }
    },
    {
      "cell_type": "code",
      "execution_count": 7,
      "source": [
        "#@title run the code below for predicting the tissue type for previous prepared data\n",
        "\n",
        "predictions = classifier1.predict(testData)\n",
        "print('computed labels: ', predictions)\n",
        "\n",
        "if (noFeatures == 2):\n",
        "    plotPredictions([216.5, 300, 291.5], [280.5, 3039.5, 305], ['normal', 'pathological', 'normal'], predictions, \"real test data\", featureNames, ['normal', 'pathological'])"
      ],
      "outputs": [
        {
          "output_type": "stream",
          "name": "stdout",
          "text": [
            "computed labels:  ['normal' 'normal' 'normal']\n"
          ]
        },
        {
          "output_type": "display_data",
          "data": {
            "text/plain": [
              "<Figure size 432x288 with 1 Axes>"
            ],
            "image/png": "[encoded data removed]"
          },
          "metadata": {
            "needs_background": "light"
          }
        }
      ],
      "metadata": {
        "cellView": "form",
        "colab": {
          "base_uri": "https://localhost:8080/",
          "height": 313
        },
        "id": "QIiKQQsKFs8X",
        "outputId": "433cfc30-6f7d-4584-b3ef-748b0153e48f"
      }
    },
    {
      "cell_type": "markdown",
      "source": [
        "## Scenariul 2: predictia tipului de tesut (normal sau patologic) pe baza caracteristicilor I0 si Area\n",
        "\n",
        "\n",
        "Proces:\n",
        "- Se pleaca de la un set de date format din masuratorile bioelectrice asociate unor probe de tesut mamar  si etichetele asociate lor\n",
        "- se aleg anumite caracteristici dintre aceste masuratori (drept variabile independente) precum IO si Area\n",
        "- Se aplica algoritmul de invatare pe setul de antrenament\n",
        "- Se realizeaza predictii pentru noi mesaje (= se eticheteaza noi mesaje)"
      ],
      "metadata": {
        "id": "s-6blRrXGkSd"
      }
    },
    {
      "cell_type": "code",
      "execution_count": 8,
      "source": [
        "#@title run the code below to inspect the raw data\n",
        "\n",
        "url = 'http://www.cs.ubbcluj.ro/~lauras/test/docs/docum/breastCancerBin.csv'\n",
        "r = requests.get(url)\n",
        "filePath = io.StringIO(r.text)\n",
        "\n",
        "dataCrt = pd.read_csv(filePath)\n",
        "dataCrt.head()"
      ],
      "outputs": [
        {
          "output_type": "execute_result",
          "data": {
            "text/plain": [
              "   Case#         Class          I0     PA500       HFS          DA  \\\n",
              "0      1  pathological  524.794072  0.187448  0.032114  228.800228   \n",
              "1      2  pathological  330.000000  0.226893  0.265290  121.154201   \n",
              "2      3  pathological  551.879287  0.232478  0.063530  264.804935   \n",
              "3      4  pathological  380.000000  0.240855  0.286234  137.640111   \n",
              "4      5  pathological  362.831266  0.200713  0.244346  124.912559   \n",
              "\n",
              "           Area       A/DA      MaxIP          DR           P  \n",
              "0   6843.598481  29.910803  60.204880  220.737212  556.828334  \n",
              "1   3163.239472  26.109202  69.717361   99.084964  400.225776  \n",
              "2  11888.391830  44.894903  77.793297  253.785300  656.769449  \n",
              "3   5402.171180  39.248524  88.758446  105.198568  493.701814  \n",
              "4   3290.462446  26.342127  69.389389  103.866552  424.796503  "
            ],
            "text/html": [
              "\n",
              "  <div id=\"df-b20fc7d1-ba45-40a5-93b7-4f6f8f699301\">\n",
              "    <div class=\"colab-df-container\">\n",
              "      <div>\n",
              "<style scoped>\n",
              "    .dataframe tbody tr th:only-of-type {\n",
              "        vertical-align: middle;\n",
              "    }\n",
              "\n",
              "    .dataframe tbody tr th {\n",
              "        vertical-align: top;\n",
              "    }\n",
              "\n",
              "    .dataframe thead th {\n",
              "        text-align: right;\n",
              "    }\n",
              "</style>\n",
              "<table border=\"1\" class=\"dataframe\">\n",
              "  <thead>\n",
              "    <tr style=\"text-align: right;\">\n",
              "      <th></th>\n",
              "      <th>Case#</th>\n",
              "      <th>Class</th>\n",
              "      <th>I0</th>\n",
              "      <th>PA500</th>\n",
              "      <th>HFS</th>\n",
              "      <th>DA</th>\n",
              "      <th>Area</th>\n",
              "      <th>A/DA</th>\n",
              "      <th>MaxIP</th>\n",
              "      <th>DR</th>\n",
              "      <th>P</th>\n",
              "    </tr>\n",
              "  </thead>\n",
              "  <tbody>\n",
              "    <tr>\n",
              "      <th>0</th>\n",
              "      <td>1</td>\n",
              "      <td>pathological</td>\n",
              "      <td>524.794072</td>\n",
              "      <td>0.187448</td>\n",
              "      <td>0.032114</td>\n",
              "      <td>228.800228</td>\n",
              "      <td>6843.598481</td>\n",
              "      <td>29.910803</td>\n",
              "      <td>60.204880</td>\n",
              "      <td>220.737212</td>\n",
              "      <td>556.828334</td>\n",
              "    </tr>\n",
              "    <tr>\n",
              "      <th>1</th>\n",
              "      <td>2</td>\n",
              "      <td>pathological</td>\n",
              "      <td>330.000000</td>\n",
              "      <td>0.226893</td>\n",
              "      <td>0.265290</td>\n",
              "      <td>121.154201</td>\n",
              "      <td>3163.239472</td>\n",
              "      <td>26.109202</td>\n",
              "      <td>69.717361</td>\n",
              "      <td>99.084964</td>\n",
              "      <td>400.225776</td>\n",
              "    </tr>\n",
              "    <tr>\n",
              "      <th>2</th>\n",
              "      <td>3</td>\n",
              "      <td>pathological</td>\n",
              "      <td>551.879287</td>\n",
              "      <td>0.232478</td>\n",
              "      <td>0.063530</td>\n",
              "      <td>264.804935</td>\n",
              "      <td>11888.391830</td>\n",
              "      <td>44.894903</td>\n",
              "      <td>77.793297</td>\n",
              "      <td>253.785300</td>\n",
              "      <td>656.769449</td>\n",
              "    </tr>\n",
              "    <tr>\n",
              "      <th>3</th>\n",
              "      <td>4</td>\n",
              "      <td>pathological</td>\n",
              "      <td>380.000000</td>\n",
              "      <td>0.240855</td>\n",
              "      <td>0.286234</td>\n",
              "      <td>137.640111</td>\n",
              "      <td>5402.171180</td>\n",
              "      <td>39.248524</td>\n",
              "      <td>88.758446</td>\n",
              "      <td>105.198568</td>\n",
              "      <td>493.701814</td>\n",
              "    </tr>\n",
              "    <tr>\n",
              "      <th>4</th>\n",
              "      <td>5</td>\n",
              "      <td>pathological</td>\n",
              "      <td>362.831266</td>\n",
              "      <td>0.200713</td>\n",
              "      <td>0.244346</td>\n",
              "      <td>124.912559</td>\n",
              "      <td>3290.462446</td>\n",
              "      <td>26.342127</td>\n",
              "      <td>69.389389</td>\n",
              "      <td>103.866552</td>\n",
              "      <td>424.796503</td>\n",
              "    </tr>\n",
              "  </tbody>\n",
              "</table>\n",
              "</div>\n",
              "      <button class=\"colab-df-convert\" onclick=\"convertToInteractive('df-b20fc7d1-ba45-40a5-93b7-4f6f8f699301')\"\n",
              "              title=\"Convert this dataframe to an interactive table.\"\n",
              "              style=\"display:none;\">\n",
              "        \n",
              "  <svg xmlns=\"http://www.w3.org/2000/svg\" height=\"24px\"viewBox=\"0 0 24 24\"\n",
              "       width=\"24px\">\n",
              "    <path d=\"M0 0h24v24H0V0z\" fill=\"none\"/>\n",
              "    <path d=\"M18.56 5.44l.94 2.06.94-2.06 2.06-.94-2.06-.94-.94-2.06-.94 2.06-2.06.94zm-11 1L8.5 8.5l.94-2.06 2.06-.94-2.06-.94L8.5 2.5l-.94 2.06-2.06.94zm10 10l.94 2.06.94-2.06 2.06-.94-2.06-.94-.94-2.06-.94 2.06-2.06.94z\"/><path d=\"M17.41 7.96l-1.37-1.37c-.4-.4-.92-.59-1.43-.59-.52 0-1.04.2-1.43.59L10.3 9.45l-7.72 7.72c-.78.78-.78 2.05 0 2.83L4 21.41c.39.39.9.59 1.41.59.51 0 1.02-.2 1.41-.59l7.78-7.78 2.81-2.81c.8-.78.8-2.07 0-2.86zM5.41 20L4 18.59l7.72-7.72 1.47 1.35L5.41 20z\"/>\n",
              "  </svg>\n",
              "      </button>\n",
              "      \n",
              "  <style>\n",
              "    .colab-df-container {\n",
              "      display:flex;\n",
              "      flex-wrap:wrap;\n",
              "      gap: 12px;\n",
              "    }\n",
              "\n",
              "    .colab-df-convert {\n",
              "      background-color: #E8F0FE;\n",
              "      border: none;\n",
              "      border-radius: 50%;\n",
              "      cursor: pointer;\n",
              "      display: none;\n",
              "      fill: #1967D2;\n",
              "      height: 32px;\n",
              "      padding: 0 0 0 0;\n",
              "      width: 32px;\n",
              "    }\n",
              "\n",
              "    .colab-df-convert:hover {\n",
              "      background-color: #E2EBFA;\n",
              "      box-shadow: 0px 1px 2px rgba(60, 64, 67, 0.3), 0px 1px 3px 1px rgba(60, 64, 67, 0.15);\n",
              "      fill: #174EA6;\n",
              "    }\n",
              "\n",
              "    [theme=dark] .colab-df-convert {\n",
              "      background-color: #3B4455;\n",
              "      fill: #D2E3FC;\n",
              "    }\n",
              "\n",
              "    [theme=dark] .colab-df-convert:hover {\n",
              "      background-color: #434B5C;\n",
              "      box-shadow: 0px 1px 3px 1px rgba(0, 0, 0, 0.15);\n",
              "      filter: drop-shadow(0px 1px 2px rgba(0, 0, 0, 0.3));\n",
              "      fill: #FFFFFF;\n",
              "    }\n",
              "  </style>\n",
              "\n",
              "      <script>\n",
              "        const buttonEl =\n",
              "          document.querySelector('#df-b20fc7d1-ba45-40a5-93b7-4f6f8f699301 button.colab-df-convert');\n",
              "        buttonEl.style.display =\n",
              "          google.colab.kernel.accessAllowed ? 'block' : 'none';\n",
              "\n",
              "        async function convertToInteractive(key) {\n",
              "          const element = document.querySelector('#df-b20fc7d1-ba45-40a5-93b7-4f6f8f699301');\n",
              "          const dataTable =\n",
              "            await google.colab.kernel.invokeFunction('convertToInteractive',\n",
              "                                                     [key], {});\n",
              "          if (!dataTable) return;\n",
              "\n",
              "          const docLinkHtml = 'Like what you see? Visit the ' +\n",
              "            '<a target=\"_blank\" href=https://colab.research.google.com/notebooks/data_table.ipynb>data table notebook</a>'\n",
              "            + ' to learn more about interactive tables.';\n",
              "          element.innerHTML = '';\n",
              "          dataTable['output_type'] = 'display_data';\n",
              "          await google.colab.output.renderOutput(dataTable, element);\n",
              "          const docLink = document.createElement('div');\n",
              "          docLink.innerHTML = docLinkHtml;\n",
              "          element.appendChild(docLink);\n",
              "        }\n",
              "      </script>\n",
              "    </div>\n",
              "  </div>\n",
              "  "
            ]
          },
          "metadata": {},
          "execution_count": 8
        }
      ],
      "metadata": {
        "cellView": "form",
        "colab": {
          "base_uri": "https://localhost:8080/",
          "height": 206
        },
        "id": "lgOr6J-b7tEg",
        "outputId": "e095e79c-8194-4110-a87b-4e9fc629be5e"
      }
    },
    {
      "cell_type": "markdown",
      "source": [
        "### Specificarea problemei\n",
        "- stabilirea caracteristicilor (date de intrare) - I0 si Area\n",
        "- stabilirea valorilor care trebuie prezise (date de iesire) - Class"
      ],
      "metadata": {
        "id": "AMkwlcrUHIws"
      }
    },
    {
      "cell_type": "code",
      "execution_count": 9,
      "source": [
        "#@title run the code below for setting the input data and the output data\n",
        "# second use case: predict the type of tissue (connective, adipose, glandular, carcinoma, fibro-adenoma, mastopathy) based on I0 and Area\n",
        "noFeatures = 2\n",
        "featureNames = ['I0', 'Area']\n",
        "outputName = 'Class'"
      ],
      "outputs": [],
      "metadata": {
        "cellView": "form",
        "id": "k5nodxzz8yxO"
      }
    },
    {
      "cell_type": "markdown",
      "source": [
        "### Incarcarea si auditarea datelor"
      ],
      "metadata": {
        "id": "A73Q-D_7HZVV"
      }
    },
    {
      "cell_type": "code",
      "execution_count": 10,
      "source": [
        "#@title run the code below for loading and auditing the data\n",
        "\n",
        "url = 'http://www.cs.ubbcluj.ro/~lauras/test/docs/docum/breastCancerBin.csv'\n",
        "r = requests.get(url)\n",
        "filePath = io.StringIO(r.text)\n",
        "\n",
        "inputs, outputs = loadData(filePath, featureNames, outputName)\n",
        "inputs = fromStringToNumericData(inputs)\n",
        "\n",
        "# audit the data\n",
        "plotHistograms(inputs, outputs)\n",
        "if (noFeatures == 2):\n",
        "    plotClassificationData(inputs, outputs, featureNames)"
      ],
      "outputs": [
        {
          "output_type": "display_data",
          "data": {
            "text/plain": [
              "<Figure size 864x288 with 3 Axes>"
            ],
            "image/png": "[encoded data removed]"
          },
          "metadata": {
            "needs_background": "light"
          }
        },
        {
          "output_type": "display_data",
          "data": {
            "text/plain": [
              "<Figure size 432x288 with 1 Axes>"
            ],
            "image/png": "[encoded data removed]"
          },
          "metadata": {
            "needs_background": "light"
          }
        }
      ],
      "metadata": {
        "cellView": "form",
        "colab": {
          "base_uri": "https://localhost:8080/",
          "height": 543
        },
        "id": "a8E3oXxCHUzT",
        "outputId": "62bf7ea1-b74d-4605-e772-e458e2bb5557"
      }
    },
    {
      "cell_type": "markdown",
      "source": [
        "### Antrenarea unui model de predictie"
      ],
      "metadata": {
        "id": "Oce_ofGJHlfE"
      }
    },
    {
      "cell_type": "code",
      "execution_count": 11,
      "source": [
        "#@title run the code below for training the classifier; the training error will be printed\n",
        "\n",
        "classifier2 = linear_model.LogisticRegression()\n",
        "classifier2.fit(inputs, outputs)\n",
        "computedOutputs = classifier2.predict(inputs)\n",
        "error = 1 - accuracy_score(outputs, computedOutputs)\n",
        "print(\"classification training error: \", error)\n"
      ],
      "outputs": [
        {
          "output_type": "stream",
          "name": "stdout",
          "text": [
            "classification training error:  0.15094339622641506\n"
          ]
        }
      ],
      "metadata": {
        "cellView": "form",
        "colab": {
          "base_uri": "https://localhost:8080/"
        },
        "id": "G-pjPKFv8-WS",
        "outputId": "e015cf88-a417-45eb-ee96-b976e2a6ccb5"
      }
    },
    {
      "cell_type": "markdown",
      "source": [
        "### Utilizarea unui model de predictie"
      ],
      "metadata": {
        "id": "fi4cvlUVHw8I"
      }
    },
    {
      "cell_type": "code",
      "execution_count": 12,
      "source": [
        "#@title run the code below from preparing sone testing data\n",
        "\n",
        "# realLabels= [normal, pathological, normal]\n",
        "testData = [[216.5, 280.5], [300, 3039.5], [291.5, 305]]\n",
        "\n"
      ],
      "outputs": [],
      "metadata": {
        "cellView": "form",
        "id": "fchpNidEH_lU"
      }
    },
    {
      "cell_type": "code",
      "execution_count": 13,
      "source": [
        "#@title run the code below for predicting the tissue type for previous prepared data\n",
        "\n",
        "predictions = classifier2.predict(testData)\n",
        "print('computed labels: ', predictions)\n",
        "\n",
        "if (noFeatures == 2):\n",
        "    plotPredictions([216.5, 300, 291.5], [280.5, 3039.5, 305], ['normal', 'pathological', 'normal'], predictions, \"real test data\", featureNames, ['normal', 'pathological'])\n",
        "    "
      ],
      "outputs": [
        {
          "output_type": "stream",
          "name": "stdout",
          "text": [
            "computed labels:  ['pathological' 'pathological' 'pathological']\n"
          ]
        },
        {
          "output_type": "display_data",
          "data": {
            "text/plain": [
              "<Figure size 432x288 with 1 Axes>"
            ],
            "image/png": "[encoded data removed]"
          },
          "metadata": {
            "needs_background": "light"
          }
        }
      ],
      "metadata": {
        "cellView": "form",
        "colab": {
          "base_uri": "https://localhost:8080/",
          "height": 313
        },
        "id": "q4aBbNrSIMBs",
        "outputId": "174a0392-45a7-415a-a17c-03fd2d459f53"
      }
    },
    {
      "cell_type": "markdown",
      "source": [
        "## Scenariul 3: predictia tipului de tesut (normal sau patologic, dar de 3 tipuri) pe baza caracteristicilor I0 si Area\n",
        "\n",
        "\n",
        "Proces:\n",
        "- Se pleaca de la un set de date format din masuratorile bioelectrice asociate unor probe de tesut mamar  si etichetele asociate lor\n",
        "- se aleg anumite caracteristici dintre aceste masuratori (drept variabile independente) precum IO si Area\n",
        "- Se aplica algoritmul de invatare pe setul de antrenament\n",
        "- Se realizeaza predictii pentru noi mesaje (= se eticheteaza noi mesaje)"
      ],
      "metadata": {
        "id": "i-9ZpcS-Id7R"
      }
    },
    {
      "cell_type": "code",
      "execution_count": 14,
      "source": [
        "#@title run the code below to inspect the raw data\n",
        "\n",
        "url = 'http://www.cs.ubbcluj.ro/~lauras/test/docs/docum/breastCancer4classes.csv'\n",
        "r = requests.get(url)\n",
        "filePath = io.StringIO(r.text)\n",
        "\n",
        "dataCrt = pd.read_csv(filePath)\n",
        "dataCrt[18:55]"
      ],
      "outputs": [
        {
          "output_type": "execute_result",
          "data": {
            "text/plain": [
              "    Case#   Class          I0     PA500       HFS          DA         Area  \\\n",
              "18     19     car  325.000000  0.224624  0.286932  229.215863  5705.332090   \n",
              "19     20     car  294.474846  0.206647  0.467748  194.871035  5541.256126   \n",
              "20     21     car  500.000000  0.192684  0.194779  144.688578  3055.012963   \n",
              "21     22     fad  211.000000  0.053931  0.094248   30.753443   151.984578   \n",
              "22     23     fad  196.856714  0.020071  0.090757   28.593126    82.058889   \n",
              "23     24     fad  245.000000  0.189019  0.081681   62.902955  1235.983356   \n",
              "24     25     fad  352.656447  0.121999  0.090757   68.527846  1066.157846   \n",
              "25     26     fad  243.293976  0.039968  0.067021   68.544778   383.928453   \n",
              "26     27     fad  259.885145  0.070686  0.006981   58.243807   465.087265   \n",
              "27     28     fad  250.000000  0.068068 -0.015359   57.172431   652.901349   \n",
              "28     29     fad  200.000000  0.037699  0.117286   42.316675   220.810907   \n",
              "29     30     fad  355.000000  0.064054  0.084474   89.558463  1033.854245   \n",
              "30     31     fad  272.000000  0.091455  0.004887   63.789380   718.946310   \n",
              "31     32     fad  341.620013  0.091979  0.074002   85.043029  1370.838068   \n",
              "32     33     fad  160.322452  0.176976  0.163363   37.217124   341.881462   \n",
              "33     34     fad  301.304399  0.109781  0.035605   64.616200   942.773191   \n",
              "34     35     fad  155.000000  0.172788  0.118682   38.940168   415.111601   \n",
              "35     36     fad  144.000000  0.120602  0.046077   19.647670    70.426239   \n",
              "36     37     mas  178.000000  0.170868  0.212930   41.542167   489.440520   \n",
              "37     38     mas  195.000000  0.139103  0.205251   37.462196   328.384052   \n",
              "38     39     mas  435.093167  0.076969  0.161268  123.597538  1342.277648   \n",
              "39     40     mas  250.000000  0.047124  0.013963   70.907040   224.145787   \n",
              "40     41     mas  339.508548  0.045379  0.030020   88.629809   331.080390   \n",
              "41     42     mas  236.000000  0.124617  0.201760   48.451130   236.880111   \n",
              "42     43     mas  481.467149  0.078540  0.016057   79.059162  1154.338239   \n",
              "43     44     mas  252.000000  0.106116  0.031416   38.544210   493.790423   \n",
              "44     45     mas  172.515797  0.127235  0.038397   37.543673   192.218148   \n",
              "45     46     mas  121.000000  0.174184  0.090757   24.437180   144.466513   \n",
              "46     47     mas  196.364864  0.182911  0.142419   54.583080   843.262528   \n",
              "47     48     mas  370.395725  0.104720  0.000000  115.923253  1308.120430   \n",
              "48     49     mas  260.277521  0.079063  0.032812   58.817611   277.259034   \n",
              "49     50     mas  544.654349  0.063705  0.002094  100.788080  1189.290233   \n",
              "50     51     mas  310.000000  0.174707  0.165457   98.509961  2741.032044   \n",
              "51     52     mas  274.993396  0.147131  0.137532   66.457943  1217.415651   \n",
              "52     53     mas  281.323263  0.232303  0.437729  157.884181  5305.123206   \n",
              "53     54     mas  327.000000  0.141023  0.084474   76.212868  1664.674076   \n",
              "54     55  normal  470.516420  0.127409  0.066323  150.224022  2657.910367   \n",
              "\n",
              "         A/DA      MaxIP          DR           P  \n",
              "18  24.890651  35.602715  227.264794  462.703007  \n",
              "19  28.435504  36.765797  191.804890  445.513299  \n",
              "20  21.114403  96.563370  107.751103  542.897089  \n",
              "21   4.942034  14.268374   27.243124  217.130704  \n",
              "22   2.869882   7.968783   27.661516  200.749336  \n",
              "23  19.649051  42.152016   46.690355  292.376238  \n",
              "24  15.558024  43.691925   52.792817  382.733186  \n",
              "25   5.601134   9.991348   67.816656  263.640761  \n",
              "26   7.985180  17.506838   56.340241  267.517446  \n",
              "27  11.419863  17.776981   55.791270  278.308615  \n",
              "28   5.218059  10.675764   40.947882  218.034313  \n",
              "29  11.543903  27.562662   86.576561  372.039957  \n",
              "30  11.270627  20.085556   60.690729  286.920220  \n",
              "31  16.119347  29.028969   79.935197  385.133460  \n",
              "32   9.186133  30.889164   20.759910  187.566518  \n",
              "33  14.590353  29.045677   57.720030  335.768459  \n",
              "34  10.660242  25.836502   29.134376  184.817041  \n",
              "35   3.584458  18.131014    7.569493  160.373770  \n",
              "36  11.781776  35.747795   21.162393  215.905934  \n",
              "37   8.765745  35.023827   13.294650  232.587628  \n",
              "38  10.860068  37.384724  117.808038  433.202322  \n",
              "39   3.161122   9.102176   70.320400  232.277629  \n",
              "40   3.735542  19.825581   87.621180  307.793194  \n",
              "41   4.889052  36.006622   32.419670  244.965155  \n",
              "42  14.600942  33.929131   71.408439  501.893358  \n",
              "43  12.811014  25.541145   28.867040  280.658299  \n",
              "44   5.119855  19.322081   32.189821  174.933770  \n",
              "45   5.911750  22.021080   10.594708  141.766185  \n",
              "46  15.449156  34.149414   42.580865  239.944073  \n",
              "47  11.284366  31.367031  112.715102  365.977651  \n",
              "48   4.713878  17.868670   56.037684  248.623412  \n",
              "49  11.799910  29.412222   96.580150  553.358210  \n",
              "50  27.824923  49.327862   85.270010  388.977808  \n",
              "51  18.318588  40.849678   52.421008  327.558639  \n",
              "52  33.601360  46.384335  150.916892  398.895549  \n",
              "53  21.842428  43.221691   62.771703  379.261839  \n",
              "54  17.692978  47.560631  142.496468  491.472488  "
            ],
            "text/html": [
              "\n",
              "  <div id=\"df-8a448875-4dc7-4bf9-8e64-37b64c347c05\">\n",
              "    <div class=\"colab-df-container\">\n",
              "      <div>\n",
              "<style scoped>\n",
              "    .dataframe tbody tr th:only-of-type {\n",
              "        vertical-align: middle;\n",
              "    }\n",
              "\n",
              "    .dataframe tbody tr th {\n",
              "        vertical-align: top;\n",
              "    }\n",
              "\n",
              "    .dataframe thead th {\n",
              "        text-align: right;\n",
              "    }\n",
              "</style>\n",
              "<table border=\"1\" class=\"dataframe\">\n",
              "  <thead>\n",
              "    <tr style=\"text-align: right;\">\n",
              "      <th></th>\n",
              "      <th>Case#</th>\n",
              "      <th>Class</th>\n",
              "      <th>I0</th>\n",
              "      <th>PA500</th>\n",
              "      <th>HFS</th>\n",
              "      <th>DA</th>\n",
              "      <th>Area</th>\n",
              "      <th>A/DA</th>\n",
              "      <th>MaxIP</th>\n",
              "      <th>DR</th>\n",
              "      <th>P</th>\n",
              "    </tr>\n",
              "  </thead>\n",
              "  <tbody>\n",
              "    <tr>\n",
              "      <th>18</th>\n",
              "      <td>19</td>\n",
              "      <td>car</td>\n",
              "      <td>325.000000</td>\n",
              "      <td>0.224624</td>\n",
              "      <td>0.286932</td>\n",
              "      <td>229.215863</td>\n",
              "      <td>5705.332090</td>\n",
              "      <td>24.890651</td>\n",
              "      <td>35.602715</td>\n",
              "      <td>227.264794</td>\n",
              "      <td>462.703007</td>\n",
              "    </tr>\n",
              "    <tr>\n",
              "      <th>19</th>\n",
              "      <td>20</td>\n",
              "      <td>car</td>\n",
              "      <td>294.474846</td>\n",
              "      <td>0.206647</td>\n",
              "      <td>0.467748</td>\n",
              "      <td>194.871035</td>\n",
              "      <td>5541.256126</td>\n",
              "      <td>28.435504</td>\n",
              "      <td>36.765797</td>\n",
              "      <td>191.804890</td>\n",
              "      <td>445.513299</td>\n",
              "    </tr>\n",
              "    <tr>\n",
              "      <th>20</th>\n",
              "      <td>21</td>\n",
              "      <td>car</td>\n",
              "      <td>500.000000</td>\n",
              "      <td>0.192684</td>\n",
              "      <td>0.194779</td>\n",
              "      <td>144.688578</td>\n",
              "      <td>3055.012963</td>\n",
              "      <td>21.114403</td>\n",
              "      <td>96.563370</td>\n",
              "      <td>107.751103</td>\n",
              "      <td>542.897089</td>\n",
              "    </tr>\n",
              "    <tr>\n",
              "      <th>21</th>\n",
              "      <td>22</td>\n",
              "      <td>fad</td>\n",
              "      <td>211.000000</td>\n",
              "      <td>0.053931</td>\n",
              "      <td>0.094248</td>\n",
              "      <td>30.753443</td>\n",
              "      <td>151.984578</td>\n",
              "      <td>4.942034</td>\n",
              "      <td>14.268374</td>\n",
              "      <td>27.243124</td>\n",
              "      <td>217.130704</td>\n",
              "    </tr>\n",
              "    <tr>\n",
              "      <th>22</th>\n",
              "      <td>23</td>\n",
              "      <td>fad</td>\n",
              "      <td>196.856714</td>\n",
              "      <td>0.020071</td>\n",
              "      <td>0.090757</td>\n",
              "      <td>28.593126</td>\n",
              "      <td>82.058889</td>\n",
              "      <td>2.869882</td>\n",
              "      <td>7.968783</td>\n",
              "      <td>27.661516</td>\n",
              "      <td>200.749336</td>\n",
              "    </tr>\n",
              "    <tr>\n",
              "      <th>23</th>\n",
              "      <td>24</td>\n",
              "      <td>fad</td>\n",
              "      <td>245.000000</td>\n",
              "      <td>0.189019</td>\n",
              "      <td>0.081681</td>\n",
              "      <td>62.902955</td>\n",
              "      <td>1235.983356</td>\n",
              "      <td>19.649051</td>\n",
              "      <td>42.152016</td>\n",
              "      <td>46.690355</td>\n",
              "      <td>292.376238</td>\n",
              "    </tr>\n",
              "    <tr>\n",
              "      <th>24</th>\n",
              "      <td>25</td>\n",
              "      <td>fad</td>\n",
              "      <td>352.656447</td>\n",
              "      <td>0.121999</td>\n",
              "      <td>0.090757</td>\n",
              "      <td>68.527846</td>\n",
              "      <td>1066.157846</td>\n",
              "      <td>15.558024</td>\n",
              "      <td>43.691925</td>\n",
              "      <td>52.792817</td>\n",
              "      <td>382.733186</td>\n",
              "    </tr>\n",
              "    <tr>\n",
              "      <th>25</th>\n",
              "      <td>26</td>\n",
              "      <td>fad</td>\n",
              "      <td>243.293976</td>\n",
              "      <td>0.039968</td>\n",
              "      <td>0.067021</td>\n",
              "      <td>68.544778</td>\n",
              "      <td>383.928453</td>\n",
              "      <td>5.601134</td>\n",
              "      <td>9.991348</td>\n",
              "      <td>67.816656</td>\n",
              "      <td>263.640761</td>\n",
              "    </tr>\n",
              "    <tr>\n",
              "      <th>26</th>\n",
              "      <td>27</td>\n",
              "      <td>fad</td>\n",
              "      <td>259.885145</td>\n",
              "      <td>0.070686</td>\n",
              "      <td>0.006981</td>\n",
              "      <td>58.243807</td>\n",
              "      <td>465.087265</td>\n",
              "      <td>7.985180</td>\n",
              "      <td>17.506838</td>\n",
              "      <td>56.340241</td>\n",
              "      <td>267.517446</td>\n",
              "    </tr>\n",
              "    <tr>\n",
              "      <th>27</th>\n",
              "      <td>28</td>\n",
              "      <td>fad</td>\n",
              "      <td>250.000000</td>\n",
              "      <td>0.068068</td>\n",
              "      <td>-0.015359</td>\n",
              "      <td>57.172431</td>\n",
              "      <td>652.901349</td>\n",
              "      <td>11.419863</td>\n",
              "      <td>17.776981</td>\n",
              "      <td>55.791270</td>\n",
              "      <td>278.308615</td>\n",
              "    </tr>\n",
              "    <tr>\n",
              "      <th>28</th>\n",
              "      <td>29</td>\n",
              "      <td>fad</td>\n",
              "      <td>200.000000</td>\n",
              "      <td>0.037699</td>\n",
              "      <td>0.117286</td>\n",
              "      <td>42.316675</td>\n",
              "      <td>220.810907</td>\n",
              "      <td>5.218059</td>\n",
              "      <td>10.675764</td>\n",
              "      <td>40.947882</td>\n",
              "      <td>218.034313</td>\n",
              "    </tr>\n",
              "    <tr>\n",
              "      <th>29</th>\n",
              "      <td>30</td>\n",
              "      <td>fad</td>\n",
              "      <td>355.000000</td>\n",
              "      <td>0.064054</td>\n",
              "      <td>0.084474</td>\n",
              "      <td>89.558463</td>\n",
              "      <td>1033.854245</td>\n",
              "      <td>11.543903</td>\n",
              "      <td>27.562662</td>\n",
              "      <td>86.576561</td>\n",
              "      <td>372.039957</td>\n",
              "    </tr>\n",
              "    <tr>\n",
              "      <th>30</th>\n",
              "      <td>31</td>\n",
              "      <td>fad</td>\n",
              "      <td>272.000000</td>\n",
              "      <td>0.091455</td>\n",
              "      <td>0.004887</td>\n",
              "      <td>63.789380</td>\n",
              "      <td>718.946310</td>\n",
              "      <td>11.270627</td>\n",
              "      <td>20.085556</td>\n",
              "      <td>60.690729</td>\n",
              "      <td>286.920220</td>\n",
              "    </tr>\n",
              "    <tr>\n",
              "      <th>31</th>\n",
              "      <td>32</td>\n",
              "      <td>fad</td>\n",
              "      <td>341.620013</td>\n",
              "      <td>0.091979</td>\n",
              "      <td>0.074002</td>\n",
              "      <td>85.043029</td>\n",
              "      <td>1370.838068</td>\n",
              "      <td>16.119347</td>\n",
              "      <td>29.028969</td>\n",
              "      <td>79.935197</td>\n",
              "      <td>385.133460</td>\n",
              "    </tr>\n",
              "    <tr>\n",
              "      <th>32</th>\n",
              "      <td>33</td>\n",
              "      <td>fad</td>\n",
              "      <td>160.322452</td>\n",
              "      <td>0.176976</td>\n",
              "      <td>0.163363</td>\n",
              "      <td>37.217124</td>\n",
              "      <td>341.881462</td>\n",
              "      <td>9.186133</td>\n",
              "      <td>30.889164</td>\n",
              "      <td>20.759910</td>\n",
              "      <td>187.566518</td>\n",
              "    </tr>\n",
              "    <tr>\n",
              "      <th>33</th>\n",
              "      <td>34</td>\n",
              "      <td>fad</td>\n",
              "      <td>301.304399</td>\n",
              "      <td>0.109781</td>\n",
              "      <td>0.035605</td>\n",
              "      <td>64.616200</td>\n",
              "      <td>942.773191</td>\n",
              "      <td>14.590353</td>\n",
              "      <td>29.045677</td>\n",
              "      <td>57.720030</td>\n",
              "      <td>335.768459</td>\n",
              "    </tr>\n",
              "    <tr>\n",
              "      <th>34</th>\n",
              "      <td>35</td>\n",
              "      <td>fad</td>\n",
              "      <td>155.000000</td>\n",
              "      <td>0.172788</td>\n",
              "      <td>0.118682</td>\n",
              "      <td>38.940168</td>\n",
              "      <td>415.111601</td>\n",
              "      <td>10.660242</td>\n",
              "      <td>25.836502</td>\n",
              "      <td>29.134376</td>\n",
              "      <td>184.817041</td>\n",
              "    </tr>\n",
              "    <tr>\n",
              "      <th>35</th>\n",
              "      <td>36</td>\n",
              "      <td>fad</td>\n",
              "      <td>144.000000</td>\n",
              "      <td>0.120602</td>\n",
              "      <td>0.046077</td>\n",
              "      <td>19.647670</td>\n",
              "      <td>70.426239</td>\n",
              "      <td>3.584458</td>\n",
              "      <td>18.131014</td>\n",
              "      <td>7.569493</td>\n",
              "      <td>160.373770</td>\n",
              "    </tr>\n",
              "    <tr>\n",
              "      <th>36</th>\n",
              "      <td>37</td>\n",
              "      <td>mas</td>\n",
              "      <td>178.000000</td>\n",
              "      <td>0.170868</td>\n",
              "      <td>0.212930</td>\n",
              "      <td>41.542167</td>\n",
              "      <td>489.440520</td>\n",
              "      <td>11.781776</td>\n",
              "      <td>35.747795</td>\n",
              "      <td>21.162393</td>\n",
              "      <td>215.905934</td>\n",
              "    </tr>\n",
              "    <tr>\n",
              "      <th>37</th>\n",
              "      <td>38</td>\n",
              "      <td>mas</td>\n",
              "      <td>195.000000</td>\n",
              "      <td>0.139103</td>\n",
              "      <td>0.205251</td>\n",
              "      <td>37.462196</td>\n",
              "      <td>328.384052</td>\n",
              "      <td>8.765745</td>\n",
              "      <td>35.023827</td>\n",
              "      <td>13.294650</td>\n",
              "      <td>232.587628</td>\n",
              "    </tr>\n",
              "    <tr>\n",
              "      <th>38</th>\n",
              "      <td>39</td>\n",
              "      <td>mas</td>\n",
              "      <td>435.093167</td>\n",
              "      <td>0.076969</td>\n",
              "      <td>0.161268</td>\n",
              "      <td>123.597538</td>\n",
              "      <td>1342.277648</td>\n",
              "      <td>10.860068</td>\n",
              "      <td>37.384724</td>\n",
              "      <td>117.808038</td>\n",
              "      <td>433.202322</td>\n",
              "    </tr>\n",
              "    <tr>\n",
              "      <th>39</th>\n",
              "      <td>40</td>\n",
              "      <td>mas</td>\n",
              "      <td>250.000000</td>\n",
              "      <td>0.047124</td>\n",
              "      <td>0.013963</td>\n",
              "      <td>70.907040</td>\n",
              "      <td>224.145787</td>\n",
              "      <td>3.161122</td>\n",
              "      <td>9.102176</td>\n",
              "      <td>70.320400</td>\n",
              "      <td>232.277629</td>\n",
              "    </tr>\n",
              "    <tr>\n",
              "      <th>40</th>\n",
              "      <td>41</td>\n",
              "      <td>mas</td>\n",
              "      <td>339.508548</td>\n",
              "      <td>0.045379</td>\n",
              "      <td>0.030020</td>\n",
              "      <td>88.629809</td>\n",
              "      <td>331.080390</td>\n",
              "      <td>3.735542</td>\n",
              "      <td>19.825581</td>\n",
              "      <td>87.621180</td>\n",
              "      <td>307.793194</td>\n",
              "    </tr>\n",
              "    <tr>\n",
              "      <th>41</th>\n",
              "      <td>42</td>\n",
              "      <td>mas</td>\n",
              "      <td>236.000000</td>\n",
              "      <td>0.124617</td>\n",
              "      <td>0.201760</td>\n",
              "      <td>48.451130</td>\n",
              "      <td>236.880111</td>\n",
              "      <td>4.889052</td>\n",
              "      <td>36.006622</td>\n",
              "      <td>32.419670</td>\n",
              "      <td>244.965155</td>\n",
              "    </tr>\n",
              "    <tr>\n",
              "      <th>42</th>\n",
              "      <td>43</td>\n",
              "      <td>mas</td>\n",
              "      <td>481.467149</td>\n",
              "      <td>0.078540</td>\n",
              "      <td>0.016057</td>\n",
              "      <td>79.059162</td>\n",
              "      <td>1154.338239</td>\n",
              "      <td>14.600942</td>\n",
              "      <td>33.929131</td>\n",
              "      <td>71.408439</td>\n",
              "      <td>501.893358</td>\n",
              "    </tr>\n",
              "    <tr>\n",
              "      <th>43</th>\n",
              "      <td>44</td>\n",
              "      <td>mas</td>\n",
              "      <td>252.000000</td>\n",
              "      <td>0.106116</td>\n",
              "      <td>0.031416</td>\n",
              "      <td>38.544210</td>\n",
              "      <td>493.790423</td>\n",
              "      <td>12.811014</td>\n",
              "      <td>25.541145</td>\n",
              "      <td>28.867040</td>\n",
              "      <td>280.658299</td>\n",
              "    </tr>\n",
              "    <tr>\n",
              "      <th>44</th>\n",
              "      <td>45</td>\n",
              "      <td>mas</td>\n",
              "      <td>172.515797</td>\n",
              "      <td>0.127235</td>\n",
              "      <td>0.038397</td>\n",
              "      <td>37.543673</td>\n",
              "      <td>192.218148</td>\n",
              "      <td>5.119855</td>\n",
              "      <td>19.322081</td>\n",
              "      <td>32.189821</td>\n",
              "      <td>174.933770</td>\n",
              "    </tr>\n",
              "    <tr>\n",
              "      <th>45</th>\n",
              "      <td>46</td>\n",
              "      <td>mas</td>\n",
              "      <td>121.000000</td>\n",
              "      <td>0.174184</td>\n",
              "      <td>0.090757</td>\n",
              "      <td>24.437180</td>\n",
              "      <td>144.466513</td>\n",
              "      <td>5.911750</td>\n",
              "      <td>22.021080</td>\n",
              "      <td>10.594708</td>\n",
              "      <td>141.766185</td>\n",
              "    </tr>\n",
              "    <tr>\n",
              "      <th>46</th>\n",
              "      <td>47</td>\n",
              "      <td>mas</td>\n",
              "      <td>196.364864</td>\n",
              "      <td>0.182911</td>\n",
              "      <td>0.142419</td>\n",
              "      <td>54.583080</td>\n",
              "      <td>843.262528</td>\n",
              "      <td>15.449156</td>\n",
              "      <td>34.149414</td>\n",
              "      <td>42.580865</td>\n",
              "      <td>239.944073</td>\n",
              "    </tr>\n",
              "    <tr>\n",
              "      <th>47</th>\n",
              "      <td>48</td>\n",
              "      <td>mas</td>\n",
              "      <td>370.395725</td>\n",
              "      <td>0.104720</td>\n",
              "      <td>0.000000</td>\n",
              "      <td>115.923253</td>\n",
              "      <td>1308.120430</td>\n",
              "      <td>11.284366</td>\n",
              "      <td>31.367031</td>\n",
              "      <td>112.715102</td>\n",
              "      <td>365.977651</td>\n",
              "    </tr>\n",
              "    <tr>\n",
              "      <th>48</th>\n",
              "      <td>49</td>\n",
              "      <td>mas</td>\n",
              "      <td>260.277521</td>\n",
              "      <td>0.079063</td>\n",
              "      <td>0.032812</td>\n",
              "      <td>58.817611</td>\n",
              "      <td>277.259034</td>\n",
              "      <td>4.713878</td>\n",
              "      <td>17.868670</td>\n",
              "      <td>56.037684</td>\n",
              "      <td>248.623412</td>\n",
              "    </tr>\n",
              "    <tr>\n",
              "      <th>49</th>\n",
              "      <td>50</td>\n",
              "      <td>mas</td>\n",
              "      <td>544.654349</td>\n",
              "      <td>0.063705</td>\n",
              "      <td>0.002094</td>\n",
              "      <td>100.788080</td>\n",
              "      <td>1189.290233</td>\n",
              "      <td>11.799910</td>\n",
              "      <td>29.412222</td>\n",
              "      <td>96.580150</td>\n",
              "      <td>553.358210</td>\n",
              "    </tr>\n",
              "    <tr>\n",
              "      <th>50</th>\n",
              "      <td>51</td>\n",
              "      <td>mas</td>\n",
              "      <td>310.000000</td>\n",
              "      <td>0.174707</td>\n",
              "      <td>0.165457</td>\n",
              "      <td>98.509961</td>\n",
              "      <td>2741.032044</td>\n",
              "      <td>27.824923</td>\n",
              "      <td>49.327862</td>\n",
              "      <td>85.270010</td>\n",
              "      <td>388.977808</td>\n",
              "    </tr>\n",
              "    <tr>\n",
              "      <th>51</th>\n",
              "      <td>52</td>\n",
              "      <td>mas</td>\n",
              "      <td>274.993396</td>\n",
              "      <td>0.147131</td>\n",
              "      <td>0.137532</td>\n",
              "      <td>66.457943</td>\n",
              "      <td>1217.415651</td>\n",
              "      <td>18.318588</td>\n",
              "      <td>40.849678</td>\n",
              "      <td>52.421008</td>\n",
              "      <td>327.558639</td>\n",
              "    </tr>\n",
              "    <tr>\n",
              "      <th>52</th>\n",
              "      <td>53</td>\n",
              "      <td>mas</td>\n",
              "      <td>281.323263</td>\n",
              "      <td>0.232303</td>\n",
              "      <td>0.437729</td>\n",
              "      <td>157.884181</td>\n",
              "      <td>5305.123206</td>\n",
              "      <td>33.601360</td>\n",
              "      <td>46.384335</td>\n",
              "      <td>150.916892</td>\n",
              "      <td>398.895549</td>\n",
              "    </tr>\n",
              "    <tr>\n",
              "      <th>53</th>\n",
              "      <td>54</td>\n",
              "      <td>mas</td>\n",
              "      <td>327.000000</td>\n",
              "      <td>0.141023</td>\n",
              "      <td>0.084474</td>\n",
              "      <td>76.212868</td>\n",
              "      <td>1664.674076</td>\n",
              "      <td>21.842428</td>\n",
              "      <td>43.221691</td>\n",
              "      <td>62.771703</td>\n",
              "      <td>379.261839</td>\n",
              "    </tr>\n",
              "    <tr>\n",
              "      <th>54</th>\n",
              "      <td>55</td>\n",
              "      <td>normal</td>\n",
              "      <td>470.516420</td>\n",
              "      <td>0.127409</td>\n",
              "      <td>0.066323</td>\n",
              "      <td>150.224022</td>\n",
              "      <td>2657.910367</td>\n",
              "      <td>17.692978</td>\n",
              "      <td>47.560631</td>\n",
              "      <td>142.496468</td>\n",
              "      <td>491.472488</td>\n",
              "    </tr>\n",
              "  </tbody>\n",
              "</table>\n",
              "</div>\n",
              "      <button class=\"colab-df-convert\" onclick=\"convertToInteractive('df-8a448875-4dc7-4bf9-8e64-37b64c347c05')\"\n",
              "              title=\"Convert this dataframe to an interactive table.\"\n",
              "              style=\"display:none;\">\n",
              "        \n",
              "  <svg xmlns=\"http://www.w3.org/2000/svg\" height=\"24px\"viewBox=\"0 0 24 24\"\n",
              "       width=\"24px\">\n",
              "    <path d=\"M0 0h24v24H0V0z\" fill=\"none\"/>\n",
              "    <path d=\"M18.56 5.44l.94 2.06.94-2.06 2.06-.94-2.06-.94-.94-2.06-.94 2.06-2.06.94zm-11 1L8.5 8.5l.94-2.06 2.06-.94-2.06-.94L8.5 2.5l-.94 2.06-2.06.94zm10 10l.94 2.06.94-2.06 2.06-.94-2.06-.94-.94-2.06-.94 2.06-2.06.94z\"/><path d=\"M17.41 7.96l-1.37-1.37c-.4-.4-.92-.59-1.43-.59-.52 0-1.04.2-1.43.59L10.3 9.45l-7.72 7.72c-.78.78-.78 2.05 0 2.83L4 21.41c.39.39.9.59 1.41.59.51 0 1.02-.2 1.41-.59l7.78-7.78 2.81-2.81c.8-.78.8-2.07 0-2.86zM5.41 20L4 18.59l7.72-7.72 1.47 1.35L5.41 20z\"/>\n",
              "  </svg>\n",
              "      </button>\n",
              "      \n",
              "  <style>\n",
              "    .colab-df-container {\n",
              "      display:flex;\n",
              "      flex-wrap:wrap;\n",
              "      gap: 12px;\n",
              "    }\n",
              "\n",
              "    .colab-df-convert {\n",
              "      background-color: #E8F0FE;\n",
              "      border: none;\n",
              "      border-radius: 50%;\n",
              "      cursor: pointer;\n",
              "      display: none;\n",
              "      fill: #1967D2;\n",
              "      height: 32px;\n",
              "      padding: 0 0 0 0;\n",
              "      width: 32px;\n",
              "    }\n",
              "\n",
              "    .colab-df-convert:hover {\n",
              "      background-color: #E2EBFA;\n",
              "      box-shadow: 0px 1px 2px rgba(60, 64, 67, 0.3), 0px 1px 3px 1px rgba(60, 64, 67, 0.15);\n",
              "      fill: #174EA6;\n",
              "    }\n",
              "\n",
              "    [theme=dark] .colab-df-convert {\n",
              "      background-color: #3B4455;\n",
              "      fill: #D2E3FC;\n",
              "    }\n",
              "\n",
              "    [theme=dark] .colab-df-convert:hover {\n",
              "      background-color: #434B5C;\n",
              "      box-shadow: 0px 1px 3px 1px rgba(0, 0, 0, 0.15);\n",
              "      filter: drop-shadow(0px 1px 2px rgba(0, 0, 0, 0.3));\n",
              "      fill: #FFFFFF;\n",
              "    }\n",
              "  </style>\n",
              "\n",
              "      <script>\n",
              "        const buttonEl =\n",
              "          document.querySelector('#df-8a448875-4dc7-4bf9-8e64-37b64c347c05 button.colab-df-convert');\n",
              "        buttonEl.style.display =\n",
              "          google.colab.kernel.accessAllowed ? 'block' : 'none';\n",
              "\n",
              "        async function convertToInteractive(key) {\n",
              "          const element = document.querySelector('#df-8a448875-4dc7-4bf9-8e64-37b64c347c05');\n",
              "          const dataTable =\n",
              "            await google.colab.kernel.invokeFunction('convertToInteractive',\n",
              "                                                     [key], {});\n",
              "          if (!dataTable) return;\n",
              "\n",
              "          const docLinkHtml = 'Like what you see? Visit the ' +\n",
              "            '<a target=\"_blank\" href=https://colab.research.google.com/notebooks/data_table.ipynb>data table notebook</a>'\n",
              "            + ' to learn more about interactive tables.';\n",
              "          element.innerHTML = '';\n",
              "          dataTable['output_type'] = 'display_data';\n",
              "          await google.colab.output.renderOutput(dataTable, element);\n",
              "          const docLink = document.createElement('div');\n",
              "          docLink.innerHTML = docLinkHtml;\n",
              "          element.appendChild(docLink);\n",
              "        }\n",
              "      </script>\n",
              "    </div>\n",
              "  </div>\n",
              "  "
            ]
          },
          "metadata": {},
          "execution_count": 14
        }
      ],
      "metadata": {
        "colab": {
          "base_uri": "https://localhost:8080/",
          "height": 1000
        },
        "id": "56uVL6j071vG",
        "cellView": "form",
        "outputId": "efed035f-315d-48b9-dee0-30d7a25e45e6"
      }
    },
    {
      "cell_type": "markdown",
      "source": [
        "### Specificarea problemei\n",
        "- stabilirea caracteristicilor (date de intrare) - I0 si Area\n",
        "- stabilirea valorilor care trebuie prezise (date de iesire) - Class (car(carcinoma), fad (fibro-adenoma), mas (mastopathy), normal)"
      ],
      "metadata": {
        "id": "un_nu9CxJaiJ"
      }
    },
    {
      "cell_type": "code",
      "execution_count": 15,
      "source": [
        "#@title run the code below to see the possible labels\n",
        "\n",
        "print(set(dataCrt['Class']))"
      ],
      "outputs": [
        {
          "output_type": "stream",
          "name": "stdout",
          "text": [
            "{'normal', 'fad', 'mas', 'car'}\n"
          ]
        }
      ],
      "metadata": {
        "cellView": "form",
        "colab": {
          "base_uri": "https://localhost:8080/"
        },
        "id": "pNhOuWNj8Q6_",
        "outputId": "c349f8b1-a25c-4be8-8d2d-02e6d5dcd961"
      }
    },
    {
      "cell_type": "code",
      "execution_count": 16,
      "source": [
        "#@title run the code below for setting the input data and the output data\n",
        "\n",
        "# third use case: predict the type of tissue (normal, carcinoma, fibro-adenoma, mastopathy) based on I0 and Area\n",
        "noFeatures = 2\n",
        "featureNames = ['I0', 'Area']\n",
        "outputName = 'Class'"
      ],
      "outputs": [],
      "metadata": {
        "cellView": "form",
        "id": "J9i4OanFJf20"
      }
    },
    {
      "cell_type": "markdown",
      "source": [
        "### Incarcarea si auditarea datelor"
      ],
      "metadata": {
        "id": "X0sRIo4BJwml"
      }
    },
    {
      "cell_type": "code",
      "execution_count": 17,
      "source": [
        "#@title run the code below for loading and auditing the data\n",
        "\n",
        "url = 'http://www.cs.ubbcluj.ro/~lauras/test/docs/docum/breastCancer4classes.csv'\n",
        "r = requests.get(url)\n",
        "filePath = io.StringIO(r.text)\n",
        "\n",
        "# second use case: predict the type of tissue (normal, carcinoma, fibro-adenoma, mastopathy) based on I0 and Area\n",
        "\n",
        "inputs, outputs = loadData(filePath, featureNames, outputName)\n",
        "inputs = fromStringToNumericData(inputs)\n",
        "\n",
        "# audit the data\n",
        "if (noFeatures == 2):\n",
        "    plotClassificationData(inputs, outputs, featureNames)"
      ],
      "outputs": [
        {
          "output_type": "display_data",
          "data": {
            "text/plain": [
              "<Figure size 432x288 with 1 Axes>"
            ],
            "image/png": "[encoded data removed]"
          },
          "metadata": {
            "needs_background": "light"
          }
        }
      ],
      "metadata": {
        "cellView": "form",
        "id": "hVDpSRWEJwmn",
        "colab": {
          "base_uri": "https://localhost:8080/",
          "height": 279
        },
        "outputId": "7bbfcef3-195c-45ed-f252-bf6463767a1a"
      }
    },
    {
      "cell_type": "code",
      "execution_count": 18,
      "source": [
        "#@title run the code below for a better description of the data\n",
        "\n",
        "\n",
        "def countExamples(outputs):\n",
        "    labels = list(set(outputs)).sort()\n",
        "    distribution = {}\n",
        "    for label in outputs:\n",
        "        if label in distribution.keys():\n",
        "            distribution[label] += 1\n",
        "        else:\n",
        "            distribution[label] = 1\n",
        "    return distribution\n",
        "\n",
        "# Cate exemple sunt din fiecare clasa (normal, carcinoma, fibro-adenoma, mastopathy)?\n",
        "plotHistograms(inputs, outputs)\n",
        "print('no of exampels: ', len(inputs), ' distributed as follows: ', countExamples(outputs))"
      ],
      "outputs": [
        {
          "output_type": "display_data",
          "data": {
            "text/plain": [
              "<Figure size 864x288 with 3 Axes>"
            ],
            "image/png": "[encoded data removed]"
          },
          "metadata": {
            "needs_background": "light"
          }
        },
        {
          "output_type": "stream",
          "name": "stdout",
          "text": [
            "no of exampels:  106  distributed as follows:  {'car': 21, 'fad': 15, 'mas': 18, 'normal': 52}\n"
          ]
        }
      ],
      "metadata": {
        "cellView": "form",
        "id": "ie7hOHhp-ALL",
        "colab": {
          "base_uri": "https://localhost:8080/",
          "height": 299
        },
        "outputId": "54501376-9c6d-4576-a82e-3fb327edb5e8"
      }
    },
    {
      "cell_type": "markdown",
      "source": [
        "### Antrenarea unui model de predictie"
      ],
      "metadata": {
        "id": "C5wp7E79Jwmn"
      }
    },
    {
      "cell_type": "code",
      "execution_count": 19,
      "source": [
        "#@title run the code below for training the classifier; the training error will be printed\n",
        "\n",
        "classifier3 = linear_model.LogisticRegression()\n",
        "classifier3.fit(inputs, outputs)\n",
        "computedOutputs = classifier3.predict(inputs)\n",
        "error = 1 - accuracy_score(outputs, computedOutputs)\n",
        "print(\"classification training error: \", error)\n"
      ],
      "outputs": [
        {
          "output_type": "stream",
          "name": "stdout",
          "text": [
            "classification training error:  0.4339622641509434\n"
          ]
        }
      ],
      "metadata": {
        "id": "l6Ug07dzJwmn",
        "colab": {
          "base_uri": "https://localhost:8080/"
        },
        "cellView": "form",
        "outputId": "d88236e9-2bb5-4cc9-b768-537209f15ddd"
      }
    },
    {
      "cell_type": "markdown",
      "source": [
        "### Utilizarea unui model de predictie"
      ],
      "metadata": {
        "id": "Cupg-eW7Jwmo"
      }
    },
    {
      "cell_type": "code",
      "execution_count": 20,
      "source": [
        "#@title run the code below from preparing sone (artificial) testing data\n",
        "\n",
        "# realLabels= [normal, pathological, normal]\n",
        "testData = [[59.5, 280.5], [61, 3039.5], [60, 305]]"
      ],
      "outputs": [],
      "metadata": {
        "cellView": "form",
        "id": "apIsPme4Jwmo"
      }
    },
    {
      "cell_type": "code",
      "execution_count": 21,
      "source": [
        "#@title run the code below for predicting the tissue type for previous prepared data\n",
        "\n",
        "predictions = classifier3.predict(testData)\n",
        "print('computed labels: ', predictions)"
      ],
      "outputs": [
        {
          "output_type": "stream",
          "name": "stdout",
          "text": [
            "computed labels:  ['mas' 'car' 'mas']\n"
          ]
        }
      ],
      "metadata": {
        "cellView": "form",
        "id": "4n2qMPVjJwmo",
        "colab": {
          "base_uri": "https://localhost:8080/"
        },
        "outputId": "b127efaf-085d-4fd7-dc77-523320f0dc8f"
      }
    },
    {
      "cell_type": "markdown",
      "source": [
        "## Scenariul 4 - recunoasterea emotilor in imagini\n",
        "\n",
        "\n",
        "Proces:\n",
        "- Se pleaca de la un set de date format din imagini cu fete umane\n",
        "- Se extrag anumite caracteristici din aceste imagini\n",
        "- Se aplica algoritmul de invatare pe setul de antrenament\n",
        "- Se realizeaza predictii pentru noi imagini (= se eticheteaza noi fete cu emotiile corespunzatoare)"
      ],
      "metadata": {
        "id": "wTSShF3NL-X3"
      }
    },
    {
      "cell_type": "markdown",
      "source": [
        "### Specificarea problemei\n",
        "\n",
        "- date de intrare: imagini cu fete\n",
        "- date de iesire: emotiile asociate fetelor"
      ],
      "metadata": {
        "id": "CHQ0S9OuYf4M"
      }
    },
    {
      "cell_type": "code",
      "execution_count": 22,
      "source": [
        "#@title run the code below for setting the prerequisites \n",
        "\n",
        "import pandas as pd\n",
        "import numpy as np\n",
        "import os\n",
        "import matplotlib.pyplot as plt\n",
        "import requests\n",
        "import io\n",
        "\n",
        "from sklearn.metrics import confusion_matrix\n",
        "from mlxtend.plotting import plot_confusion_matrix\n",
        "\n",
        "from keras import models\n",
        "from keras.layers import Dense, Dropout, Flatten, Conv2D, MaxPool2D\n",
        "from keras.optimizers import RMSprop,Adam\n",
        "from keras.utils import to_categorical\n",
        "\n",
        "\n",
        "def prepare_data(data):\n",
        "    \"\"\" Prepare data for modeling \n",
        "        input: data frame with labels und pixel data\n",
        "        output: image and label array \"\"\"\n",
        "    \n",
        "    image_array = np.zeros(shape=(len(data), 48, 48))\n",
        "    image_label = np.array(list(map(int, data['emotion'])))\n",
        "    \n",
        "    for i, row in enumerate(data.index):\n",
        "        image = np.fromstring(data.loc[row, ' pixels'], dtype=int, sep=' ')\n",
        "        image = np.reshape(image, (48, 48))\n",
        "        image_array[i] = image\n",
        "        \n",
        "    return image_array, image_label\n",
        "\n",
        "def plot_examples(label=0):\n",
        "    fig, axs = plt.subplots(1, 5, figsize=(25, 12))\n",
        "    fig.subplots_adjust(hspace = .2, wspace=.2)\n",
        "    axs = axs.ravel()\n",
        "    for i in range(5):\n",
        "        idx = data[data['emotion']==label].index[i]\n",
        "        axs[i].imshow(train_images[idx][:,:,0], cmap='gray')\n",
        "        axs[i].set_title(emotions[train_labels[idx].argmax()])\n",
        "        axs[i].set_xticklabels([])\n",
        "        axs[i].set_yticklabels([])\n",
        "        \n",
        "def plot_all_emotions():\n",
        "    fig, axs = plt.subplots(1, 7, figsize=(30, 12))\n",
        "    fig.subplots_adjust(hspace = .2, wspace=.2)\n",
        "    axs = axs.ravel()\n",
        "    for i in range(7):\n",
        "        idx = data[data['emotion']==i].index[i]\n",
        "        axs[i].imshow(train_images[idx][:,:,0], cmap='gray')\n",
        "        axs[i].set_title(emotions[train_labels[idx].argmax()])\n",
        "        axs[i].set_xticklabels([])\n",
        "        axs[i].set_yticklabels([])\n",
        "        \n",
        "def plot_image_and_emotion(test_image_array, test_image_label, pred_test_labels, image_number):\n",
        "    \"\"\" Function to plot the image and compare the prediction results with the label \"\"\"\n",
        "    \n",
        "    fig, axs = plt.subplots(1, 2, figsize=(12, 6), sharey=False)\n",
        "    \n",
        "    bar_label = emotions.values()\n",
        "    \n",
        "    axs[0].imshow(test_image_array[image_number], 'gray')\n",
        "    axs[0].set_title(emotions[test_image_label[image_number]])\n",
        "    \n",
        "    axs[1].bar(bar_label, pred_test_labels[image_number], color='orange', alpha=0.7)\n",
        "    axs[1].grid()\n",
        "    \n",
        "    plt.show()\n",
        "    \n",
        "def plot_compare_distributions(array1, array2, title1='', title2=''):\n",
        "    df_array1 = pd.DataFrame()\n",
        "    df_array2 = pd.DataFrame()\n",
        "    df_array1['emotion'] = array1.argmax(axis=1)\n",
        "    df_array2['emotion'] = array2.argmax(axis=1)\n",
        "    \n",
        "    fig, axs = plt.subplots(1, 2, figsize=(12, 6), sharey=False)\n",
        "    x = emotions.values()\n",
        "    \n",
        "    y = df_array1['emotion'].value_counts()\n",
        "    keys_missed = list(set(emotions.keys()).difference(set(y.keys())))\n",
        "    for key_missed in keys_missed:\n",
        "        y[key_missed] = 0\n",
        "    axs[0].bar(x, y.sort_index(), color='orange')\n",
        "    axs[0].set_title(title1)\n",
        "    axs[0].grid()\n",
        "    \n",
        "    y = df_array2['emotion'].value_counts()\n",
        "    keys_missed = list(set(emotions.keys()).difference(set(y.keys())))\n",
        "    for key_missed in keys_missed:\n",
        "        y[key_missed] = 0\n",
        "    axs[1].bar(x, y.sort_index())\n",
        "    axs[1].set_title(title2)\n",
        "    axs[1].grid()\n",
        "    \n",
        "    plt.show()"
      ],
      "outputs": [],
      "metadata": {
        "cellView": "form",
        "id": "JVyTLA4vgiDB"
      }
    },
    {
      "cell_type": "markdown",
      "source": [
        "### Incarcarea si auditarea datelor"
      ],
      "metadata": {
        "id": "55lez3tFgS8C"
      }
    },
    {
      "cell_type": "code",
      "execution_count": 23,
      "source": [
        "#@title run the code below for loading and auditing the data (please be patinet during the laoding)\n",
        "\n",
        "url = 'http://www.cs.ubbcluj.ro/~lauras/test/docs/docum/icml_face_data.csv'\n",
        "r = requests.get(url)\n",
        "filePath = io.StringIO(r.text)\n",
        "\n",
        "data = pd.read_csv(filePath)\n",
        "data.head()\n"
      ],
      "outputs": [
        {
          "output_type": "execute_result",
          "data": {
            "text/plain": [
              "   emotion     Usage                                             pixels\n",
              "0        0  Training  70 80 82 72 58 58 60 63 54 58 60 48 89 115 121...\n",
              "1        0  Training  151 150 147 155 148 133 111 140 170 174 182 15...\n",
              "2        2  Training  231 212 156 164 174 138 161 173 182 200 106 38...\n",
              "3        4  Training  24 32 36 30 32 23 19 20 30 41 21 22 32 34 21 1...\n",
              "4        6  Training  4 0 0 0 0 0 0 0 0 0 0 0 3 15 23 28 48 50 58 84..."
            ],
            "text/html": [
              "\n",
              "  <div id=\"df-b40053f8-2197-4b93-b4c0-91b2611a6c9c\">\n",
              "    <div class=\"colab-df-container\">\n",
              "      <div>\n",
              "<style scoped>\n",
              "    .dataframe tbody tr th:only-of-type {\n",
              "        vertical-align: middle;\n",
              "    }\n",
              "\n",
              "    .dataframe tbody tr th {\n",
              "        vertical-align: top;\n",
              "    }\n",
              "\n",
              "    .dataframe thead th {\n",
              "        text-align: right;\n",
              "    }\n",
              "</style>\n",
              "<table border=\"1\" class=\"dataframe\">\n",
              "  <thead>\n",
              "    <tr style=\"text-align: right;\">\n",
              "      <th></th>\n",
              "      <th>emotion</th>\n",
              "      <th>Usage</th>\n",
              "      <th>pixels</th>\n",
              "    </tr>\n",
              "  </thead>\n",
              "  <tbody>\n",
              "    <tr>\n",
              "      <th>0</th>\n",
              "      <td>0</td>\n",
              "      <td>Training</td>\n",
              "      <td>70 80 82 72 58 58 60 63 54 58 60 48 89 115 121...</td>\n",
              "    </tr>\n",
              "    <tr>\n",
              "      <th>1</th>\n",
              "      <td>0</td>\n",
              "      <td>Training</td>\n",
              "      <td>151 150 147 155 148 133 111 140 170 174 182 15...</td>\n",
              "    </tr>\n",
              "    <tr>\n",
              "      <th>2</th>\n",
              "      <td>2</td>\n",
              "      <td>Training</td>\n",
              "      <td>231 212 156 164 174 138 161 173 182 200 106 38...</td>\n",
              "    </tr>\n",
              "    <tr>\n",
              "      <th>3</th>\n",
              "      <td>4</td>\n",
              "      <td>Training</td>\n",
              "      <td>24 32 36 30 32 23 19 20 30 41 21 22 32 34 21 1...</td>\n",
              "    </tr>\n",
              "    <tr>\n",
              "      <th>4</th>\n",
              "      <td>6</td>\n",
              "      <td>Training</td>\n",
              "      <td>4 0 0 0 0 0 0 0 0 0 0 0 3 15 23 28 48 50 58 84...</td>\n",
              "    </tr>\n",
              "  </tbody>\n",
              "</table>\n",
              "</div>\n",
              "      <button class=\"colab-df-convert\" onclick=\"convertToInteractive('df-b40053f8-2197-4b93-b4c0-91b2611a6c9c')\"\n",
              "              title=\"Convert this dataframe to an interactive table.\"\n",
              "              style=\"display:none;\">\n",
              "        \n",
              "  <svg xmlns=\"http://www.w3.org/2000/svg\" height=\"24px\"viewBox=\"0 0 24 24\"\n",
              "       width=\"24px\">\n",
              "    <path d=\"M0 0h24v24H0V0z\" fill=\"none\"/>\n",
              "    <path d=\"M18.56 5.44l.94 2.06.94-2.06 2.06-.94-2.06-.94-.94-2.06-.94 2.06-2.06.94zm-11 1L8.5 8.5l.94-2.06 2.06-.94-2.06-.94L8.5 2.5l-.94 2.06-2.06.94zm10 10l.94 2.06.94-2.06 2.06-.94-2.06-.94-.94-2.06-.94 2.06-2.06.94z\"/><path d=\"M17.41 7.96l-1.37-1.37c-.4-.4-.92-.59-1.43-.59-.52 0-1.04.2-1.43.59L10.3 9.45l-7.72 7.72c-.78.78-.78 2.05 0 2.83L4 21.41c.39.39.9.59 1.41.59.51 0 1.02-.2 1.41-.59l7.78-7.78 2.81-2.81c.8-.78.8-2.07 0-2.86zM5.41 20L4 18.59l7.72-7.72 1.47 1.35L5.41 20z\"/>\n",
              "  </svg>\n",
              "      </button>\n",
              "      \n",
              "  <style>\n",
              "    .colab-df-container {\n",
              "      display:flex;\n",
              "      flex-wrap:wrap;\n",
              "      gap: 12px;\n",
              "    }\n",
              "\n",
              "    .colab-df-convert {\n",
              "      background-color: #E8F0FE;\n",
              "      border: none;\n",
              "      border-radius: 50%;\n",
              "      cursor: pointer;\n",
              "      display: none;\n",
              "      fill: #1967D2;\n",
              "      height: 32px;\n",
              "      padding: 0 0 0 0;\n",
              "      width: 32px;\n",
              "    }\n",
              "\n",
              "    .colab-df-convert:hover {\n",
              "      background-color: #E2EBFA;\n",
              "      box-shadow: 0px 1px 2px rgba(60, 64, 67, 0.3), 0px 1px 3px 1px rgba(60, 64, 67, 0.15);\n",
              "      fill: #174EA6;\n",
              "    }\n",
              "\n",
              "    [theme=dark] .colab-df-convert {\n",
              "      background-color: #3B4455;\n",
              "      fill: #D2E3FC;\n",
              "    }\n",
              "\n",
              "    [theme=dark] .colab-df-convert:hover {\n",
              "      background-color: #434B5C;\n",
              "      box-shadow: 0px 1px 3px 1px rgba(0, 0, 0, 0.15);\n",
              "      filter: drop-shadow(0px 1px 2px rgba(0, 0, 0, 0.3));\n",
              "      fill: #FFFFFF;\n",
              "    }\n",
              "  </style>\n",
              "\n",
              "      <script>\n",
              "        const buttonEl =\n",
              "          document.querySelector('#df-b40053f8-2197-4b93-b4c0-91b2611a6c9c button.colab-df-convert');\n",
              "        buttonEl.style.display =\n",
              "          google.colab.kernel.accessAllowed ? 'block' : 'none';\n",
              "\n",
              "        async function convertToInteractive(key) {\n",
              "          const element = document.querySelector('#df-b40053f8-2197-4b93-b4c0-91b2611a6c9c');\n",
              "          const dataTable =\n",
              "            await google.colab.kernel.invokeFunction('convertToInteractive',\n",
              "                                                     [key], {});\n",
              "          if (!dataTable) return;\n",
              "\n",
              "          const docLinkHtml = 'Like what you see? Visit the ' +\n",
              "            '<a target=\"_blank\" href=https://colab.research.google.com/notebooks/data_table.ipynb>data table notebook</a>'\n",
              "            + ' to learn more about interactive tables.';\n",
              "          element.innerHTML = '';\n",
              "          dataTable['output_type'] = 'display_data';\n",
              "          await google.colab.output.renderOutput(dataTable, element);\n",
              "          const docLink = document.createElement('div');\n",
              "          docLink.innerHTML = docLinkHtml;\n",
              "          element.appendChild(docLink);\n",
              "        }\n",
              "      </script>\n",
              "    </div>\n",
              "  </div>\n",
              "  "
            ]
          },
          "metadata": {},
          "execution_count": 23
        }
      ],
      "metadata": {
        "id": "x2qUtzOGgUC2",
        "colab": {
          "base_uri": "https://localhost:8080/",
          "height": 206
        },
        "outputId": "18317935-95a9-4243-dd27-ff463540ea11"
      }
    },
    {
      "cell_type": "markdown",
      "source": [
        "- descrierea datelor"
      ],
      "metadata": {
        "id": "Wt8BAFMCZqM4"
      }
    },
    {
      "cell_type": "code",
      "execution_count": 24,
      "source": [
        "#@title run the code bellow for a short data description \n",
        "emotions = {0: 'Angry', 1: 'Disgust', 2: 'Fear', 3: 'Happy', 4: 'Sad', 5: 'Surprise', 6: 'Neutral'}\n",
        "\n",
        "data[' Usage'].value_counts()\n",
        "\n",
        "\n"
      ],
      "outputs": [
        {
          "output_type": "execute_result",
          "data": {
            "text/plain": [
              "Training       28709\n",
              "PublicTest      3589\n",
              "PrivateTest     3589\n",
              "Name:  Usage, dtype: int64"
            ]
          },
          "metadata": {},
          "execution_count": 24
        }
      ],
      "metadata": {
        "id": "JaY9LAw4h7IJ",
        "colab": {
          "base_uri": "https://localhost:8080/"
        },
        "cellView": "form",
        "outputId": "8bee1167-a867-464b-9652-2d00649658e3"
      }
    },
    {
      "cell_type": "markdown",
      "source": [
        "- pregatirea datelor pentru invatare"
      ],
      "metadata": {
        "id": "xI6BC3oIaK-I"
      }
    },
    {
      "cell_type": "code",
      "execution_count": 25,
      "source": [
        "#@title run the code bellow for data preparation\n",
        "\n",
        "# Define training, validation and test data:\n",
        "train_image_array, train_image_label = prepare_data(data[data[' Usage']=='Training'])\n",
        "val_image_array, val_image_label = prepare_data(data[data[' Usage']=='PrivateTest'])\n",
        "test_image_array, test_image_label = prepare_data(data[data[' Usage']=='PublicTest'])\n",
        "\n",
        "#reshape the images\n",
        "train_images = train_image_array.reshape((train_image_array.shape[0], 48, 48, 1))\n",
        "train_images = train_images.astype('float32')/255\n",
        "val_images = val_image_array.reshape((val_image_array.shape[0], 48, 48, 1))\n",
        "val_images = val_images.astype('float32')/255\n",
        "test_images = test_image_array.reshape((test_image_array.shape[0], 48, 48, 1))\n",
        "test_images = test_images.astype('float32')/255\n",
        "\n",
        "# encoding target values\n",
        "train_labels = to_categorical(train_image_label)\n",
        "val_labels = to_categorical(val_image_label)\n",
        "test_labels = to_categorical(test_image_label)\n"
      ],
      "outputs": [],
      "metadata": {
        "cellView": "form",
        "id": "E8JNLmYSmoVi"
      }
    },
    {
      "cell_type": "markdown",
      "source": [
        "- cateva exemple"
      ],
      "metadata": {
        "id": "rJHWbTE5miB3"
      }
    },
    {
      "cell_type": "code",
      "execution_count": 26,
      "source": [
        "#@title run the code bellow for plotting some faces \n",
        "\n",
        "plot_all_emotions()"
      ],
      "outputs": [
        {
          "output_type": "display_data",
          "data": {
            "text/plain": [
              "<Figure size 2160x864 with 7 Axes>"
            ],
            "image/png": "[encoded data removed]"
          },
          "metadata": {
            "needs_background": "light"
          }
        }
      ],
      "metadata": {
        "cellView": "form",
        "id": "Zw0wFfVjmjoo",
        "colab": {
          "base_uri": "https://localhost:8080/",
          "height": 200
        },
        "outputId": "86fa3dcb-6e21-47ac-b6e0-1e574e8f4412"
      }
    },
    {
      "cell_type": "markdown",
      "source": [
        "- distributia datelor (pe setul de antrenare si validare)"
      ],
      "metadata": {
        "id": "45S5Rjr6m-Pc"
      }
    },
    {
      "cell_type": "code",
      "execution_count": 27,
      "source": [
        "#@title run the code bellow for plotting the data distribution\n",
        "\n",
        "plot_compare_distributions(train_labels, val_labels, title1='train labels', title2='val labels')"
      ],
      "outputs": [
        {
          "output_type": "display_data",
          "data": {
            "text/plain": [
              "<Figure size 864x432 with 2 Axes>"
            ],
            "image/png": "[encoded data removed]"
          },
          "metadata": {
            "needs_background": "light"
          }
        }
      ],
      "metadata": {
        "cellView": "form",
        "id": "j-VCeQlIm9Jc",
        "colab": {
          "base_uri": "https://localhost:8080/",
          "height": 390
        },
        "outputId": "95a4020c-0010-4a9a-b7f2-1d17a57a5888"
      }
    },
    {
      "cell_type": "markdown",
      "source": [
        "### Antrenarea unui model de predictie"
      ],
      "metadata": {
        "id": "BW8Dz-nPb5Sc"
      }
    },
    {
      "cell_type": "markdown",
      "source": [
        "- pregatirea algoritmului pentru antrenare"
      ],
      "metadata": {
        "id": "xCl5ZMHabu2c"
      }
    },
    {
      "cell_type": "code",
      "execution_count": 28,
      "source": [
        "#@title run the code bellow for preparing the ML algorithm\n",
        "\n",
        "class_weight = dict(zip(range(0, 7), (((data[data[' Usage']=='Training']['emotion'].value_counts()).sort_index())/len(data[data[' Usage']=='Training']['emotion'])).tolist()))\n",
        "\n",
        "model = models.Sequential()\n",
        "model.add(Conv2D(32, (3, 3), activation='relu', input_shape=(48, 48, 1)))\n",
        "model.add(MaxPool2D((2, 2)))\n",
        "model.add(Conv2D(64, (3, 3), activation='relu'))\n",
        "model.add(MaxPool2D((2, 2)))\n",
        "model.add(Conv2D(64, (3, 3), activation='relu'))\n",
        "model.add(Flatten())\n",
        "model.add(Dense(64, activation='relu'))\n",
        "model.add(Dense(7, activation='softmax'))\n",
        "model.compile(optimizer=Adam(lr=1e-3), loss='categorical_crossentropy', metrics=['accuracy'])\n",
        "model.summary()"
      ],
      "outputs": [
        {
          "output_type": "stream",
          "name": "stdout",
          "text": [
            "Model: \"sequential\"\n",
            "_________________________________________________________________\n",
            " Layer (type)                Output Shape              Param #   \n",
            "=================================================================\n",
            " conv2d (Conv2D)             (None, 46, 46, 32)        320       \n",
            "                                                                 \n",
            " max_pooling2d (MaxPooling2D  (None, 23, 23, 32)       0         \n",
            " )                                                               \n",
            "                                                                 \n",
            " conv2d_1 (Conv2D)           (None, 21, 21, 64)        18496     \n",
            "                                                                 \n",
            " max_pooling2d_1 (MaxPooling  (None, 10, 10, 64)       0         \n",
            " 2D)                                                             \n",
            "                                                                 \n",
            " conv2d_2 (Conv2D)           (None, 8, 8, 64)          36928     \n",
            "                                                                 \n",
            " flatten (Flatten)           (None, 4096)              0         \n",
            "                                                                 \n",
            " dense (Dense)               (None, 64)                262208    \n",
            "                                                                 \n",
            " dense_1 (Dense)             (None, 7)                 455       \n",
            "                                                                 \n",
            "=================================================================\n",
            "Total params: 318,407\n",
            "Trainable params: 318,407\n",
            "Non-trainable params: 0\n",
            "_________________________________________________________________\n"
          ]
        },
        {
          "output_type": "stream",
          "name": "stderr",
          "text": [
            "/usr/local/lib/python3.9/dist-packages/keras/optimizers/optimizer_v2/adam.py:117: UserWarning: The `lr` argument is deprecated, use `learning_rate` instead.\n",
            "  super().__init__(name, **kwargs)\n"
          ]
        }
      ],
      "metadata": {
        "cellView": "form",
        "id": "fkS0roo2nJOI",
        "colab": {
          "base_uri": "https://localhost:8080/"
        },
        "outputId": "a371de73-eb4e-4783-96ac-b2f01f7eaacf"
      }
    },
    {
      "cell_type": "markdown",
      "source": [
        "- antrenarea algoritmului"
      ],
      "metadata": {
        "id": "W4ismmSObypd"
      }
    },
    {
      "cell_type": "code",
      "execution_count": 29,
      "source": [
        "#@title run the code bellow for traing (please be patient!!!)\n",
        "history = model.fit(train_images, train_labels,\n",
        "                    validation_data=(val_images, val_labels),\n",
        "                    class_weight = class_weight,\n",
        "                    epochs=12,\n",
        "                    batch_size=64)"
      ],
      "outputs": [
        {
          "output_type": "stream",
          "name": "stdout",
          "text": [
            "Epoch 1/12\n",
            "449/449 [==============================] - 73s 161ms/step - loss: 0.2687 - accuracy: 0.3147 - val_loss: 1.6134 - val_accuracy: 0.3948\n",
            "Epoch 2/12\n",
            "449/449 [==============================] - 71s 159ms/step - loss: 0.2278 - accuracy: 0.4354 - val_loss: 1.5016 - val_accuracy: 0.4416\n",
            "Epoch 3/12\n",
            "449/449 [==============================] - 71s 159ms/step - loss: 0.2061 - accuracy: 0.4888 - val_loss: 1.4025 - val_accuracy: 0.4726\n",
            "Epoch 4/12\n",
            "449/449 [==============================] - 71s 159ms/step - loss: 0.1937 - accuracy: 0.5220 - val_loss: 1.3423 - val_accuracy: 0.5024\n",
            "Epoch 5/12\n",
            "449/449 [==============================] - 71s 159ms/step - loss: 0.1840 - accuracy: 0.5478 - val_loss: 1.3188 - val_accuracy: 0.5258\n",
            "Epoch 6/12\n",
            "449/449 [==============================] - 76s 170ms/step - loss: 0.1750 - accuracy: 0.5688 - val_loss: 1.2587 - val_accuracy: 0.5380\n",
            "Epoch 7/12\n",
            "449/449 [==============================] - 73s 162ms/step - loss: 0.1673 - accuracy: 0.5879 - val_loss: 1.2503 - val_accuracy: 0.5394\n",
            "Epoch 8/12\n",
            "449/449 [==============================] - 72s 161ms/step - loss: 0.1587 - accuracy: 0.6132 - val_loss: 1.2553 - val_accuracy: 0.5464\n",
            "Epoch 9/12\n",
            "449/449 [==============================] - 73s 162ms/step - loss: 0.1505 - accuracy: 0.6347 - val_loss: 1.3114 - val_accuracy: 0.5380\n",
            "Epoch 10/12\n",
            "449/449 [==============================] - 72s 160ms/step - loss: 0.1426 - accuracy: 0.6533 - val_loss: 1.2733 - val_accuracy: 0.5534\n",
            "Epoch 11/12\n",
            "449/449 [==============================] - 72s 160ms/step - loss: 0.1354 - accuracy: 0.6692 - val_loss: 1.3500 - val_accuracy: 0.5492\n",
            "Epoch 12/12\n",
            "449/449 [==============================] - 72s 160ms/step - loss: 0.1274 - accuracy: 0.6896 - val_loss: 1.3494 - val_accuracy: 0.5442\n"
          ]
        }
      ],
      "metadata": {
        "cellView": "form",
        "id": "NixElZ1UnMVP",
        "colab": {
          "base_uri": "https://localhost:8080/"
        },
        "outputId": "fac23ba2-9e40-4e21-b864-b6226560fae3"
      }
    },
    {
      "cell_type": "markdown",
      "source": [
        "### Utilizarea modelului de predictie pentru a eticheta alte imagini"
      ],
      "metadata": {
        "id": "FQqcesF-cOet"
      }
    },
    {
      "cell_type": "code",
      "execution_count": 30,
      "source": [
        "#@title run the code bellow for predicting the emotions of new faces/images\n",
        "\n",
        "pred_test_labels = model.predict(test_images)\n",
        "\n",
        "test_loss, test_acc = model.evaluate(test_images, test_labels)\n",
        "print('test caccuracy:', test_acc)"
      ],
      "outputs": [
        {
          "output_type": "stream",
          "name": "stdout",
          "text": [
            "113/113 [==============================] - 3s 22ms/step\n",
            "113/113 [==============================] - 3s 27ms/step - loss: 1.3688 - accuracy: 0.5447\n",
            "test caccuracy: 0.5447199940681458\n"
          ]
        }
      ],
      "metadata": {
        "cellView": "form",
        "id": "Si-uXx5bnQ-i",
        "colab": {
          "base_uri": "https://localhost:8080/"
        },
        "outputId": "d309a28e-d1f2-41bb-aad6-bd16c572b54c"
      }
    },
    {
      "cell_type": "code",
      "execution_count": 31,
      "source": [
        "#@title run the code below to see one of the the predictions\n",
        "\n",
        "plot_image_and_emotion(test_image_array, test_image_label, pred_test_labels, 106)"
      ],
      "outputs": [
        {
          "output_type": "display_data",
          "data": {
            "text/plain": [
              "<Figure size 864x432 with 2 Axes>"
            ],
            "image/png": "[encoded data removed]"
          },
          "metadata": {
            "needs_background": "light"
          }
        }
      ],
      "metadata": {
        "id": "SbsUCdOznfJA",
        "colab": {
          "base_uri": "https://localhost:8080/",
          "height": 379
        },
        "cellView": "form",
        "outputId": "ebfe1e61-e96a-44dd-a910-6ca32f2bb547"
      }
    },
    {
      "cell_type": "code",
      "execution_count": 32,
      "source": [
        "#@title run the code below to see another one of the the predictions\n",
        "\n",
        "plot_image_and_emotion(test_image_array, test_image_label, pred_test_labels, 40)"
      ],
      "outputs": [
        {
          "output_type": "display_data",
          "data": {
            "text/plain": [
              "<Figure size 864x432 with 2 Axes>"
            ],
            "image/png": "[encoded data removed]"
          },
          "metadata": {
            "needs_background": "light"
          }
        }
      ],
      "metadata": {
        "cellView": "form",
        "id": "6JEOyWkinjMc",
        "colab": {
          "base_uri": "https://localhost:8080/",
          "height": 379
        },
        "outputId": "1a969b18-66a3-4650-9bd8-b5722de151d3"
      }
    },
    {
      "cell_type": "code",
      "execution_count": 33,
      "source": [
        "#@title run the code below to compare the true emotions by the predicted emotions\n",
        "\n",
        "plot_compare_distributions(test_labels, pred_test_labels, title1='test labels', title2='predict labels')"
      ],
      "outputs": [
        {
          "output_type": "display_data",
          "data": {
            "text/plain": [
              "<Figure size 864x432 with 2 Axes>"
            ],
            "image/png": "[encoded data removed]"
          },
          "metadata": {
            "needs_background": "light"
          }
        }
      ],
      "metadata": {
        "cellView": "form",
        "id": "ZX_xQ0tlnmgA",
        "colab": {
          "base_uri": "https://localhost:8080/",
          "height": 390
        },
        "outputId": "d190306e-86d7-4170-c5a3-fce5d07d613b"
      }
    },
    {
      "cell_type": "markdown",
      "source": [
        "## Scenariul 5 Separarea emailurilor in doua categorii (spam si ham)\n",
        "\n",
        "Grupare mesaje - se doreste clasificarea unor mesaje in doua categorii (spam si ham). Pentru fiecare mesaj se cunoaste textul aferent lui.\n",
        "\n",
        "Proces:\n",
        "- Se pleaca de la un set de date format din textul mesajelor precum cel din fisierul spam.csv\n",
        "- Se extrag anumite caracteristici din textul mesajelor folosind diferite reprezentari precum: Bag of Words, TF-IDF sau Word2Vec\n",
        "- Se aplica algoritmul de invatare pe setul de antrenament\n",
        "- Se realizeaza predictii pentru noi mesaje (= se eticheteaza noi mesaje)\n"
      ],
      "metadata": {
        "id": "qJlam6n7d8V0"
      }
    },
    {
      "cell_type": "markdown",
      "source": [
        "### Specificarea problemei\n",
        "\n",
        "- date de intrare: mesaje (emailuri in format text)\n",
        "- date de iesire: tipul mesajelor (spam sau ham)"
      ],
      "metadata": {
        "id": "LWg3Lm8Al9uK"
      }
    },
    {
      "cell_type": "markdown",
      "source": [
        "### Incarcarea si auditarea datelor"
      ],
      "metadata": {
        "id": "WMalmINHl9uQ"
      }
    },
    {
      "cell_type": "code",
      "execution_count": 40,
      "source": [
        "#@title run the code below for loading and auditing the data (please be patinet during the laoding)\n",
        "\n",
        "url = 'http://www.cs.ubbcluj.ro/~lauras/test/docs/docum/spam.csv'\n",
        "r = requests.get(url)\n",
        "filePath = io.StringIO(r.text)\n",
        "\n",
        "data = []\n",
        "csv_reader = csv.reader(filePath, delimiter=',')\n",
        "line_count = 0\n",
        "for row in csv_reader:\n",
        "    if line_count == 0:\n",
        "        dataNames = row\n",
        "    else:\n",
        "        data.append(row)\n",
        "    line_count += 1\n",
        "\n",
        "inputs = [data[i][0] for i in range(len(data))]\n",
        "outputs = [data[i][1] for i in range(len(data))]\n",
        "labelNames = list(set(outputs))\n"
      ],
      "outputs": [],
      "metadata": {
        "id": "O_MXcbpJl9uQ"
      }
    },
    {
      "cell_type": "markdown",
      "source": [
        "- cateva exemple"
      ],
      "metadata": {
        "id": "mOC07NDtl9uT"
      }
    },
    {
      "cell_type": "code",
      "execution_count": 41,
      "source": [
        "#@title run the code bellow to see some examples\n",
        "\n",
        "print('Message: [', inputs[0], '] is a', labelNames[0])\n",
        "print('Message: [', inputs[1], '] is a', labelNames[1])"
      ],
      "outputs": [
        {
          "output_type": "stream",
          "name": "stdout",
          "text": [
            "Message: [ Go until jurong point, crazy.. Available only in bugis n great world la e buffet... Cine there got amore wat... ] is a ham\n",
            "Message: [ Ok lar... Joking wif u oni... ] is a spam\n"
          ]
        }
      ],
      "metadata": {
        "cellView": "form",
        "id": "B8yZFTFJl9uU",
        "colab": {
          "base_uri": "https://localhost:8080/"
        },
        "outputId": "f888eaef-5b9c-4f8d-a88a-af7d87af9456"
      }
    },
    {
      "cell_type": "code",
      "execution_count": 42,
      "source": [
        "#@title run the code bellow for preparing data for training \n",
        "\n",
        "import numpy as np\n",
        "\n",
        "np.random.seed(5)\n",
        "# noSamples = inputs.shape[0]\n",
        "noSamples = len(inputs)\n",
        "indexes = [i for i in range(noSamples)]\n",
        "trainSample = np.random.choice(indexes, int(0.8 * noSamples), replace = False)\n",
        "testSample = [i for i in indexes  if not i in trainSample]\n",
        "\n",
        "trainInputs = [inputs[i] for i in trainSample]\n",
        "trainOutputs = [outputs[i] for i in trainSample]\n",
        "testInputs = [inputs[i] for i in testSample]\n",
        "testOutputs = [outputs[i] for i in testSample]\n",
        "\n",
        "# representation: tf-idf features - word granularity\n",
        "from sklearn.feature_extraction.text import TfidfVectorizer\n",
        "vectorizer = TfidfVectorizer(max_features=50)\n",
        "\n",
        "trainFeatures = vectorizer.fit_transform(trainInputs)\n",
        "testFeatures = vectorizer.transform(testInputs)"
      ],
      "outputs": [],
      "metadata": {
        "id": "gLBXIcwLnEr_"
      }
    },
    {
      "cell_type": "markdown",
      "source": [
        "### Antrenarea unui model de predictie"
      ],
      "metadata": {
        "id": "yCNDXvhLl9uV"
      }
    },
    {
      "cell_type": "code",
      "execution_count": 37,
      "source": [
        "#@title run the code bellow for traing (please be patient!!!)\n",
        "\n",
        "from sklearn.tree import DecisionTreeClassifier\n",
        "\n",
        "classifier = DecisionTreeClassifier()\n",
        "classifier.fit(trainFeatures, trainOutputs)\n",
        "computedLabels = classifier.predict(testFeatures)\n",
        "\n",
        "from sklearn.metrics import accuracy_score\n",
        "print(\"acc: \", accuracy_score(testOutputs, computedLabels))\n"
      ],
      "outputs": [
        {
          "output_type": "stream",
          "name": "stdout",
          "text": [
            "acc:  0.9327354260089686\n"
          ]
        }
      ],
      "metadata": {
        "id": "Nhvgg638l9uX",
        "colab": {
          "base_uri": "https://localhost:8080/"
        },
        "outputId": "40afdc50-28a4-4343-dadf-e10f90ada279"
      }
    },
    {
      "cell_type": "markdown",
      "source": [
        "### Utilizarea modelului de predictie pentru a eticheta alte mesaje"
      ],
      "metadata": {
        "id": "OGKB2XFkl9uX"
      }
    },
    {
      "cell_type": "code",
      "execution_count": 38,
      "source": [
        "#@title run the code bellow for predicting the type of new messages\n",
        "\n",
        "pred_test_labels = model.predict(test_images)\n",
        "\n",
        "test_loss, test_acc = model.evaluate(test_images, test_labels)\n",
        "print('test caccuracy:', test_acc)"
      ],
      "outputs": [
        {
          "output_type": "stream",
          "name": "stdout",
          "text": [
            "113/113 [==============================] - 2s 22ms/step\n",
            "113/113 [==============================] - 3s 22ms/step - loss: 1.3688 - accuracy: 0.5447\n",
            "test caccuracy: 0.5447199940681458\n"
          ]
        }
      ],
      "metadata": {
        "id": "pZ3eyUjMl9uX",
        "colab": {
          "base_uri": "https://localhost:8080/"
        },
        "outputId": "5677f2c5-5f6f-4958-8971-15ac8137625d"
      }
    },
    {
      "cell_type": "code",
      "execution_count": 39,
      "source": [
        "#@title run the code below to see several predictions \n",
        "\n",
        "\n",
        "print('Message: [', testInputs[0], '] is a', computedLabels[0])\n",
        "print('Message: [', testInputs[20][:70], '] is a', computedLabels[20])\n",
        "\n"
      ],
      "outputs": [
        {
          "output_type": "stream",
          "name": "stdout",
          "text": [
            "Message: [ Fine if thatåÕs the way u feel. ThatåÕs the way its gota b ] is a ham\n",
            "Message: [ Todays Voda numbers ending 7548 are selected to receive a $350 award.  ] is a spam\n"
          ]
        }
      ],
      "metadata": {
        "id": "Yqec7Rv0l9uY",
        "colab": {
          "base_uri": "https://localhost:8080/"
        },
        "outputId": "a44ccfa8-33d7-42ac-adc6-4cbb672d191f"
      }
    }
  ]
}