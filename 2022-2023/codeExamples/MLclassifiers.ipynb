{
  "nbformat": 4,
  "nbformat_minor": 2,
  "metadata": {
    "colab": {
      "name": "MLalgorithms.ipynb",
      "provenance": [],
      "collapsed_sections": [
        "Wf2oVqAVrBLQ",
        "Bjfug45_sGUP"
      ],
      "toc_visible": true
    },
    "kernelspec": {
      "name": "python3",
      "display_name": "Python 3.7.2 64-bit"
    },
    "language_info": {
      "name": "python",
      "version": "3.7.2",
      "mimetype": "text/x-python",
      "codemirror_mode": {
        "name": "ipython",
        "version": 3
      },
      "pygments_lexer": "ipython3",
      "nbconvert_exporter": "python",
      "file_extension": ".py"
    },
    "interpreter": {
      "hash": "b15e34aad66e9e3b527f162cfcae96454e420cf4f38bc5947ead173934d3535a"
    }
  },
  "cells": [
    {
      "cell_type": "markdown",
      "source": [
        "# Exemple de diferiti algoritmi de ML pentru rezolvarea unei probleme de clasificare\n",
        "\n",
        "Predictia tipului de tesut (normal sau patologic) pe baza caracteristicilor MaxIP si Area\n",
        "\n",
        "Proces:\n",
        "- Se pleaca de la un set de date format din masuratorile bioelectrice asociate unor probe de tesut mamar  si etichetele asociate lor\n",
        "- se aleg anumite caracteristici dintre aceste masuratori (drept variabile independente) precum MaxIP si Area\n",
        "- Se aplica algoritmul de invatare pe setul de antrenament\n",
        "- Se realizeaza predictii pentru noi mesaje (= se eticheteaza noi mesaje)"
      ],
      "metadata": {
        "id": "2B0iQPiZdlPh"
      }
    },
    {
      "cell_type": "code",
      "execution_count": 1,
      "source": [
        "#@title run the code below for prerequisites\r\n",
        "\r\n",
        "from sklearn.neighbors import KNeighborsClassifier\r\n",
        "from sklearn.tree import DecisionTreeClassifier\r\n",
        "import numpy as np\r\n",
        "from sklearn import tree\r\n",
        "from sklearn import linear_model\r\n",
        "from sklearn.metrics import accuracy_score\r\n",
        "from sklearn.metrics import mean_squared_error\r\n",
        "\r\n",
        "import csv\r\n",
        "import matplotlib.pyplot as plt \r\n",
        "import os\r\n",
        "import io\r\n",
        "import requests\r\n",
        "import pandas as pd\r\n",
        "\r\n",
        "\r\n",
        "def loadData(fileName, featureNames, outputVariabName):\r\n",
        "    data = []\r\n",
        "    dataNames = []\r\n",
        "    csv_reader = csv.reader(fileName, delimiter=',')\r\n",
        "    line_count = 0\r\n",
        "    for row in csv_reader:\r\n",
        "        if line_count == 0:\r\n",
        "            dataNames = row\r\n",
        "        else:\r\n",
        "            data.append(row)\r\n",
        "        line_count += 1\r\n",
        "    inputs = []\r\n",
        "    for i in range(len(data)):\r\n",
        "        crtExample = []\r\n",
        "        for feature in featureNames:\r\n",
        "            selectedVariable = dataNames.index(feature)\r\n",
        "            crtExample.append(data[i][selectedVariable])\r\n",
        "        inputs.append(crtExample)\r\n",
        "        \r\n",
        "    selectedOutput = dataNames.index(outputVariabName)\r\n",
        "    outputs = []\r\n",
        "    for i in range(len(data)):\r\n",
        "        outputs.append(data[i][selectedOutput])\r\n",
        "    \r\n",
        "    return inputs, outputs\r\n",
        "\r\n",
        "\r\n",
        "def fromStringToNumericData(values):\r\n",
        "    if isinstance(values[0], list):\r\n",
        "        aux = []\r\n",
        "        for i in range(len(values)):\r\n",
        "            line = []\r\n",
        "            for j in range(len(values[i])):\r\n",
        "                line.append(float(values[i][j]))\r\n",
        "            aux.append(line)\r\n",
        "        return aux\r\n",
        "    else:\r\n",
        "        aux = []\r\n",
        "        for i in range(len(values)):\r\n",
        "            aux.append(float(values[i]))\r\n",
        "        return aux\r\n",
        "\r\n",
        "def getFeature(data, pos):\r\n",
        "    values = []\r\n",
        "    for i in range(len(data)):\r\n",
        "        values.append(data[i][pos])\r\n",
        "    return values\r\n",
        "\r\n",
        "def plotHistograms(inputs, outputs):\r\n",
        "    noFeatures = len(inputs[0])\r\n",
        "    fig, ax = plt.subplots(1, noFeatures + 1,  figsize=(4 * (noFeatures + 1), 4))\r\n",
        "    for i in range(noFeatures):\r\n",
        "        crtFeatureValues = getFeature(inputs, i)\r\n",
        "        ax[i].hist(crtFeatureValues, 10, color = 'r')\r\n",
        "        ax[i].title.set_text('histogram of ' + featureNames[i])\r\n",
        "    ax[noFeatures].hist(outputs, 10, color = 'g')\r\n",
        "    ax[noFeatures].title.set_text('histogram of ' + outputName)\r\n",
        "\r\n",
        "    plt.show()\r\n",
        "\r\n",
        "\r\n",
        "def plotClassificationData(inputs, outputs, featureNames):\r\n",
        "    noExamples = len(inputs)\r\n",
        "    labels = set(outputs)\r\n",
        "    noData = len(inputs)\r\n",
        "    for crtLabel in labels:\r\n",
        "        x = [inputs[i][0] for i in range(noExamples) if outputs[i] == crtLabel ]\r\n",
        "        y = [inputs[i][1] for i in range(noExamples) if outputs[i] == crtLabel ]\r\n",
        "        plt.scatter(x, y, label = crtLabel)\r\n",
        "    plt.xlabel(featureNames[0])\r\n",
        "    plt.ylabel(featureNames[1])\r\n",
        "    plt.legend()\r\n",
        "    plt.show()  \r\n",
        "\r\n",
        "\r\n",
        "def plotPredictions(feature1, feature2, realOutputs, computedOutputs, title, featureNames, labels):\r\n",
        "    noData = len(feature1)\r\n",
        "    for crtLabel in labels:\r\n",
        "        x = [feature1[i] for i in range(noData) if realOutputs[i] == crtLabel and computedOutputs[i] == crtLabel ]\r\n",
        "        y = [feature2[i] for i in range(noData) if realOutputs[i] == crtLabel and computedOutputs[i] == crtLabel]\r\n",
        "        plt.scatter(x, y, label = crtLabel + ' (correct)')\r\n",
        "    for crtLabel in labels:\r\n",
        "        x = [feature1[i] for i in range(noData) if realOutputs[i] == crtLabel and computedOutputs[i] != crtLabel ]\r\n",
        "        y = [feature2[i] for i in range(noData) if realOutputs[i] == crtLabel and computedOutputs[i] != crtLabel]\r\n",
        "        plt.scatter(x, y, label = crtLabel + ' (incorrect)')\r\n",
        "    plt.xlabel(featureNames[0])\r\n",
        "    plt.ylabel(featureNames[1])\r\n",
        "    plt.legend()\r\n",
        "    plt.title(title)\r\n",
        "    plt.show()\r\n",
        "       \r\n",
        "def plotADecisionTree(clf):\r\n",
        "  n_nodes = clf.tree_.node_count\r\n",
        "  children_left = clf.tree_.children_left\r\n",
        "  children_right = clf.tree_.children_right\r\n",
        "  feature = clf.tree_.feature\r\n",
        "  threshold = clf.tree_.threshold\r\n",
        "\r\n",
        "  node_depth = np.zeros(shape=n_nodes, dtype=np.int64)\r\n",
        "  is_leaves = np.zeros(shape=n_nodes, dtype=bool)\r\n",
        "  stack = [(0, 0)]  # start with the root node id (0) and its depth (0)\r\n",
        "  while len(stack) > 0:\r\n",
        "      # `pop` ensures each node is only visited once\r\n",
        "      node_id, depth = stack.pop()\r\n",
        "      node_depth[node_id] = depth\r\n",
        "\r\n",
        "      # If the left and right child of a node is not the same we have a split\r\n",
        "      # node\r\n",
        "      is_split_node = children_left[node_id] != children_right[node_id]\r\n",
        "      # If a split node, append left and right children and depth to `stack`\r\n",
        "      # so we can loop through them\r\n",
        "      if is_split_node:\r\n",
        "          stack.append((children_left[node_id], depth + 1))\r\n",
        "          stack.append((children_right[node_id], depth + 1))\r\n",
        "      else:\r\n",
        "          is_leaves[node_id] = True\r\n",
        "\r\n",
        "  # print(\"The binary tree structure has {n} nodes and has \"\r\n",
        "  #       \"the following tree structure:\\n\".format(n=n_nodes))\r\n",
        "  # for i in range(n_nodes):\r\n",
        "  #     if is_leaves[i]:\r\n",
        "  #         print(\"{space}node={node} is a leaf node.\".format(\r\n",
        "  #             space=node_depth[i] * \"\\t\", node=i))\r\n",
        "  #     else:\r\n",
        "  #         print(\"{space}node={node} is a split node: \"\r\n",
        "  #               \"go to node {left} if X[:, {feature}] <= {threshold} \"\r\n",
        "  #               \"else to node {right}.\".format(\r\n",
        "  #                   space=node_depth[i] * \"\\t\",\r\n",
        "  #                   node=i,\r\n",
        "  #                   left=children_left[i],\r\n",
        "  #                   feature=feature[i],\r\n",
        "  #                   threshold=threshold[i],\r\n",
        "  #                   right=children_right[i]))\r\n",
        "          \r\n",
        "  tree.plot_tree(clf)\r\n",
        "  plt.show()\r\n",
        "\r\n",
        "\r\n",
        "print(\"setup is ready...\")"
      ],
      "outputs": [
        {
          "output_type": "stream",
          "name": "stdout",
          "text": [
            "setup is ready...\n"
          ]
        }
      ],
      "metadata": {
        "id": "qVUdSm5YoFKg",
        "colab": {
          "base_uri": "https://localhost:8080/"
        },
        "cellView": "form",
        "outputId": "759abb45-aa1c-45b2-da21-d80283cfc4ac"
      }
    },
    {
      "cell_type": "markdown",
      "source": [
        "## Inspectare date"
      ],
      "metadata": {
        "id": "8rS50qh0q2Pv"
      }
    },
    {
      "cell_type": "code",
      "execution_count": 2,
      "source": [
        "#@title run the code below to inspect the raw data\r\n",
        "\r\n",
        "url = 'http://www.cs.ubbcluj.ro/~lauras/test/docs/docum/breastCancerBin.csv'\r\n",
        "r = requests.get(url)\r\n",
        "filePath = io.StringIO(r.text)\r\n",
        "\r\n",
        "dataCrt = pd.read_csv(filePath)\r\n",
        "dataCrt.head()"
      ],
      "outputs": [
        {
          "output_type": "execute_result",
          "data": {
            "text/html": [
              "<div>\n",
              "<style scoped>\n",
              "    .dataframe tbody tr th:only-of-type {\n",
              "        vertical-align: middle;\n",
              "    }\n",
              "\n",
              "    .dataframe tbody tr th {\n",
              "        vertical-align: top;\n",
              "    }\n",
              "\n",
              "    .dataframe thead th {\n",
              "        text-align: right;\n",
              "    }\n",
              "</style>\n",
              "<table border=\"1\" class=\"dataframe\">\n",
              "  <thead>\n",
              "    <tr style=\"text-align: right;\">\n",
              "      <th></th>\n",
              "      <th>Case#</th>\n",
              "      <th>Class</th>\n",
              "      <th>I0</th>\n",
              "      <th>PA500</th>\n",
              "      <th>HFS</th>\n",
              "      <th>DA</th>\n",
              "      <th>Area</th>\n",
              "      <th>A/DA</th>\n",
              "      <th>MaxIP</th>\n",
              "      <th>DR</th>\n",
              "      <th>P</th>\n",
              "    </tr>\n",
              "  </thead>\n",
              "  <tbody>\n",
              "    <tr>\n",
              "      <th>0</th>\n",
              "      <td>1</td>\n",
              "      <td>pathological</td>\n",
              "      <td>524.794072</td>\n",
              "      <td>0.187448</td>\n",
              "      <td>0.032114</td>\n",
              "      <td>228.800228</td>\n",
              "      <td>6843.598481</td>\n",
              "      <td>29.910803</td>\n",
              "      <td>60.204880</td>\n",
              "      <td>220.737212</td>\n",
              "      <td>556.828334</td>\n",
              "    </tr>\n",
              "    <tr>\n",
              "      <th>1</th>\n",
              "      <td>2</td>\n",
              "      <td>pathological</td>\n",
              "      <td>330.000000</td>\n",
              "      <td>0.226893</td>\n",
              "      <td>0.265290</td>\n",
              "      <td>121.154201</td>\n",
              "      <td>3163.239472</td>\n",
              "      <td>26.109202</td>\n",
              "      <td>69.717361</td>\n",
              "      <td>99.084964</td>\n",
              "      <td>400.225776</td>\n",
              "    </tr>\n",
              "    <tr>\n",
              "      <th>2</th>\n",
              "      <td>3</td>\n",
              "      <td>pathological</td>\n",
              "      <td>551.879287</td>\n",
              "      <td>0.232478</td>\n",
              "      <td>0.063530</td>\n",
              "      <td>264.804935</td>\n",
              "      <td>11888.391830</td>\n",
              "      <td>44.894903</td>\n",
              "      <td>77.793297</td>\n",
              "      <td>253.785300</td>\n",
              "      <td>656.769449</td>\n",
              "    </tr>\n",
              "    <tr>\n",
              "      <th>3</th>\n",
              "      <td>4</td>\n",
              "      <td>pathological</td>\n",
              "      <td>380.000000</td>\n",
              "      <td>0.240855</td>\n",
              "      <td>0.286234</td>\n",
              "      <td>137.640111</td>\n",
              "      <td>5402.171180</td>\n",
              "      <td>39.248524</td>\n",
              "      <td>88.758446</td>\n",
              "      <td>105.198568</td>\n",
              "      <td>493.701813</td>\n",
              "    </tr>\n",
              "    <tr>\n",
              "      <th>4</th>\n",
              "      <td>5</td>\n",
              "      <td>pathological</td>\n",
              "      <td>362.831266</td>\n",
              "      <td>0.200713</td>\n",
              "      <td>0.244346</td>\n",
              "      <td>124.912559</td>\n",
              "      <td>3290.462446</td>\n",
              "      <td>26.342127</td>\n",
              "      <td>69.389389</td>\n",
              "      <td>103.866552</td>\n",
              "      <td>424.796503</td>\n",
              "    </tr>\n",
              "  </tbody>\n",
              "</table>\n",
              "</div>"
            ],
            "text/plain": [
              "   Case#         Class          I0     PA500       HFS          DA  \\\n",
              "0      1  pathological  524.794072  0.187448  0.032114  228.800228   \n",
              "1      2  pathological  330.000000  0.226893  0.265290  121.154201   \n",
              "2      3  pathological  551.879287  0.232478  0.063530  264.804935   \n",
              "3      4  pathological  380.000000  0.240855  0.286234  137.640111   \n",
              "4      5  pathological  362.831266  0.200713  0.244346  124.912559   \n",
              "\n",
              "           Area       A/DA      MaxIP          DR           P  \n",
              "0   6843.598481  29.910803  60.204880  220.737212  556.828334  \n",
              "1   3163.239472  26.109202  69.717361   99.084964  400.225776  \n",
              "2  11888.391830  44.894903  77.793297  253.785300  656.769449  \n",
              "3   5402.171180  39.248524  88.758446  105.198568  493.701813  \n",
              "4   3290.462446  26.342127  69.389389  103.866552  424.796503  "
            ]
          },
          "metadata": {},
          "execution_count": 2
        }
      ],
      "metadata": {
        "cellView": "form",
        "colab": {
          "base_uri": "https://localhost:8080/",
          "height": 200
        },
        "id": "z6dj43sKdlPt",
        "outputId": "8326e7d2-94fb-4bdd-cfd1-210dbe69d40c"
      }
    },
    {
      "cell_type": "markdown",
      "source": [
        "## Specificarea problemei\n",
        "- stabilirea caracteristicilor (date de intrare) - MaxIP si Area\n",
        "- stabilirea valorilor care trebuie prezise (date de iesire) - tipul de tesut (normal sau patologic)"
      ],
      "metadata": {
        "id": "F51bPkt_dlPu"
      }
    },
    {
      "cell_type": "code",
      "execution_count": 3,
      "source": [
        "#@title run the code below for setting the input data and the output data\r\n",
        "# first use case: predict the type of tissue (connective, adipose, glandular, carcinoma, fibro-adenoma, mastopathy) based on MaxIP and Area\r\n",
        "noFeatures = 2\r\n",
        "featureNames = ['MaxIP', 'Area']\r\n",
        "outputName = 'Class'\r\n",
        "\r\n",
        "print('A prediction model of ', outputName, ' based on ', featureNames, ' will be prepared...')"
      ],
      "outputs": [
        {
          "output_type": "stream",
          "name": "stdout",
          "text": [
            "A prediction model of  Class  based on  ['MaxIP', 'Area']  will be prepared...\n"
          ]
        }
      ],
      "metadata": {
        "id": "NbrONdORdlPu",
        "colab": {
          "base_uri": "https://localhost:8080/"
        },
        "cellView": "form",
        "outputId": "503ef681-bb9e-46d5-a854-2aa1be4fc5f4"
      }
    },
    {
      "cell_type": "markdown",
      "source": [
        "## Incarcarea si auditarea datelor"
      ],
      "metadata": {
        "id": "hx1Nyy73dlPv"
      }
    },
    {
      "cell_type": "code",
      "execution_count": 4,
      "source": [
        "#@title run the code below for loading and auditing the data\r\n",
        "\r\n",
        "url = 'http://www.cs.ubbcluj.ro/~lauras/test/docs/docum/breastCancerBin.csv'\r\n",
        "r = requests.get(url)\r\n",
        "filePath = io.StringIO(r.text)\r\n",
        "\r\n",
        "\r\n",
        "inputs, outputs = loadData(filePath, featureNames, outputName)\r\n",
        "inputs = fromStringToNumericData(inputs)\r\n",
        "\r\n",
        "# audit the data\r\n",
        "plotHistograms(inputs, outputs)\r\n",
        "if (noFeatures == 2):\r\n",
        "    plotClassificationData(inputs, outputs, featureNames)"
      ],
      "outputs": [
        {
          "output_type": "display_data",
          "data": {
            "image/png": "[encoded data removed]",
            "text/plain": [
              "<Figure size 864x288 with 3 Axes>"
            ]
          },
          "metadata": {
            "needs_background": "light"
          }
        },
        {
          "output_type": "display_data",
          "data": {
            "image/png": "[encoded data removed]",
            "text/plain": [
              "<Figure size 432x288 with 1 Axes>"
            ]
          },
          "metadata": {
            "needs_background": "light"
          }
        }
      ],
      "metadata": {
        "colab": {
          "base_uri": "https://localhost:8080/",
          "height": 543
        },
        "id": "h4Ho525XdlPv",
        "cellView": "form",
        "outputId": "6dda129e-a30c-4eb8-a8e9-78f76dedfe3a"
      }
    },
    {
      "cell_type": "markdown",
      "source": [
        "## Clasificare folosind metoda celui mai apropiat vecin"
      ],
      "metadata": {
        "id": "Wf2oVqAVrBLQ"
      }
    },
    {
      "cell_type": "markdown",
      "source": [
        "### Antrenarea unui model de predictie"
      ],
      "metadata": {
        "id": "WlGyQDI-dlPv"
      }
    },
    {
      "cell_type": "code",
      "execution_count": 5,
      "source": [
        "#@title run the code below for training the classifier; the training error will be printed\r\n",
        "\r\n",
        "# try another value for the no of neighbours (parameter n_neighbors)\r\n",
        "classifier = KNeighborsClassifier(n_neighbors=5)\r\n",
        "\r\n",
        "classifier.fit(inputs, outputs)\r\n",
        "computedOutputs = classifier.predict(inputs)\r\n",
        "error = 1 - accuracy_score(outputs, computedOutputs)\r\n",
        "print(\"classification training error: \", error)\r\n"
      ],
      "outputs": [
        {
          "output_type": "stream",
          "name": "stdout",
          "text": [
            "classification training error:  0.2735849056603774\n"
          ]
        }
      ],
      "metadata": {
        "colab": {
          "base_uri": "https://localhost:8080/"
        },
        "id": "Ug26vRJkdlPw",
        "cellView": "form",
        "outputId": "d0dd6d67-45a3-4fd7-cf97-7b6976781bdc"
      }
    },
    {
      "cell_type": "markdown",
      "source": [
        "### Utilizarea unui model de predictie"
      ],
      "metadata": {
        "id": "mByJDVbFdlPw"
      }
    },
    {
      "cell_type": "code",
      "execution_count": 6,
      "source": [
        "#@title run the code below from preparing sone testing data\r\n",
        "\r\n",
        "# normal, pathological, normal\r\n",
        "testData = [[59.5, 280.5], [61, 3039.5], [60, 305]]"
      ],
      "outputs": [],
      "metadata": {
        "id": "Ny3nqmscdlPw",
        "cellView": "form"
      }
    },
    {
      "cell_type": "code",
      "execution_count": 7,
      "source": [
        "#@title run the code below for predicting the tissue type for previous prepared data\r\n",
        "\r\n",
        "predictions = classifier.predict(testData)\r\n",
        "print('computed labels:    ', predictions)\r\n",
        "print('ground truth labels: [\\'normal\\', \\'pathological\\', \\'normal\\']')\r\n",
        "if (noFeatures == 2):\r\n",
        "    plotPredictions([216.5, 300, 291.5], [280.5, 3039.5, 305], ['normal', 'pathological', 'normal'], predictions, \"real test data\", featureNames, ['normal', 'pathological'])"
      ],
      "outputs": [
        {
          "output_type": "stream",
          "name": "stdout",
          "text": [
            "computed labels:     ['normal' 'pathological' 'pathological']\n",
            "ground truth labels: ['normal', 'pathological', 'normal']\n"
          ]
        },
        {
          "output_type": "display_data",
          "data": {
            "image/png": "[encoded data removed]",
            "text/plain": [
              "<Figure size 432x288 with 1 Axes>"
            ]
          },
          "metadata": {
            "needs_background": "light"
          }
        }
      ],
      "metadata": {
        "colab": {
          "base_uri": "https://localhost:8080/",
          "height": 0
        },
        "id": "vnTnVFhidlPx",
        "cellView": "form",
        "outputId": "2c8e1957-69f4-4922-fcbe-5393574c0b6b"
      }
    },
    {
      "cell_type": "markdown",
      "source": [
        "## Clasificare folosind arbori de decizie"
      ],
      "metadata": {
        "id": "Bjfug45_sGUP"
      }
    },
    {
      "cell_type": "markdown",
      "source": [
        "### Antrenarea unui model de predictie"
      ],
      "metadata": {
        "id": "e5a2OpLRsvDd"
      }
    },
    {
      "cell_type": "code",
      "execution_count": 8,
      "source": [
        "#@title run the code below for training the classifier; the training error will be printed\r\n",
        "\r\n",
        "# please try another value for the depth of the tree (max_depth parameter)\r\n",
        "classifier = DecisionTreeClassifier(max_depth = 3, random_state=0)\r\n",
        "\r\n",
        "classifier.fit(inputs, outputs)\r\n",
        "computedOutputs = classifier.predict(inputs)\r\n",
        "error = 1 - accuracy_score(outputs, computedOutputs)\r\n",
        "print(\"classification training error: \", error)\r\n",
        "\r\n",
        "plotADecisionTree(classifier)"
      ],
      "outputs": [
        {
          "output_type": "stream",
          "name": "stdout",
          "text": [
            "classification training error:  0.17924528301886788\n"
          ]
        },
        {
          "output_type": "display_data",
          "data": {
            "image/png": "[encoded data removed]",
            "text/plain": [
              "<Figure size 432x288 with 1 Axes>"
            ]
          },
          "metadata": {
            "needs_background": "light"
          }
        }
      ],
      "metadata": {
        "colab": {
          "base_uri": "https://localhost:8080/",
          "height": 266
        },
        "cellView": "form",
        "id": "8bbMqKUnrJnP",
        "outputId": "9306fb61-c691-4f2a-e510-13781964d1f6"
      }
    },
    {
      "cell_type": "markdown",
      "source": [
        "### Utilizarea unui model de predictie"
      ],
      "metadata": {
        "id": "vyfpa59YrJnR"
      }
    },
    {
      "cell_type": "code",
      "execution_count": 9,
      "source": [
        "#@title run the code below from preparing sone testing data\r\n",
        "\r\n",
        "# normal, pathological, normal\r\n",
        "testData = [[59.5, 280.5], [61, 3039.5], [60, 305]]"
      ],
      "outputs": [],
      "metadata": {
        "cellView": "form",
        "id": "htbQKVDJrJnR"
      }
    },
    {
      "cell_type": "code",
      "execution_count": 10,
      "source": [
        "#@title run the code below for predicting the tissue type for previous prepared data\r\n",
        "\r\n",
        "predictions = classifier.predict(testData)\r\n",
        "print('computed labels:    ', predictions)\r\n",
        "print('ground truth labels: [\\'normal\\', \\'pathological\\', \\'normal\\']')\r\n",
        "\r\n",
        "if (noFeatures == 2):\r\n",
        "    plotPredictions([216.5, 300, 291.5], [280.5, 3039.5, 305], ['normal', 'pathological', 'normal'], predictions, \"real test data\", featureNames, ['normal', 'pathological'])"
      ],
      "outputs": [
        {
          "output_type": "stream",
          "name": "stdout",
          "text": [
            "computed labels:     ['normal' 'pathological' 'normal']\n",
            "ground truth labels: ['normal', 'pathological', 'normal']\n"
          ]
        },
        {
          "output_type": "display_data",
          "data": {
            "image/png": "[encoded data removed]",
            "text/plain": [
              "<Figure size 432x288 with 1 Axes>"
            ]
          },
          "metadata": {
            "needs_background": "light"
          }
        }
      ],
      "metadata": {
        "colab": {
          "base_uri": "https://localhost:8080/",
          "height": 330
        },
        "cellView": "form",
        "id": "vjc3B6HKrJnR",
        "outputId": "b68eae8f-a9f2-4d8c-d41d-f6d6d4c22317"
      }
    },
    {
      "cell_type": "markdown",
      "source": [
        "## Clasificare folosind Masini cu suport vectorial"
      ],
      "metadata": {
        "id": "55tt3Fi-s6c5"
      }
    },
    {
      "cell_type": "markdown",
      "source": [
        "### Antrenarea unui model de predictie"
      ],
      "metadata": {
        "id": "jfOzzUG8s6c6"
      }
    },
    {
      "cell_type": "code",
      "execution_count": 11,
      "source": [
        "#@title run the code below for training the classifier (please be patient)\r\n",
        "from sklearn.svm import SVC\r\n",
        "import numpy as np \r\n",
        "\r\n",
        "# we create an instance of SVM and fit out data. We do not scale our\r\n",
        "# data since we want to plot the support vectors\r\n",
        "X, y = np.array(inputs), np.array(outputs)\r\n",
        "\r\n",
        "poly1_svc = SVC(kernel='poly', degree=1).fit(X, y)\r\n",
        "poly5_svc = SVC(kernel='poly', degree=5).fit(X, y)\r\n",
        "\r\n",
        "\r\n",
        "computedOutputs1 = poly1_svc.predict(inputs)\r\n",
        "error = 1 - accuracy_score(outputs, computedOutputs1)\r\n",
        "print(\"classification training error (poly1): \", error)\r\n",
        "\r\n",
        "computedOutputs5 = poly5_svc.predict(inputs)\r\n",
        "error = 1 - accuracy_score(outputs, computedOutputs5)\r\n",
        "print(\"classification training error (poly5): \", error)"
      ],
      "outputs": [
        {
          "output_type": "stream",
          "name": "stdout",
          "text": [
            "classification training error (poly1):  0.3584905660377359\n",
            "classification training error (poly5):  0.41509433962264153\n"
          ]
        }
      ],
      "metadata": {
        "id": "8vMrDHrzs6c7"
      }
    },
    {
      "cell_type": "code",
      "execution_count": 12,
      "source": [
        "#@title run the code bellow to plot the two classifications\r\n",
        "\r\n",
        "# create a mesh to plot in\r\n",
        "h = 10  # step size in the mesh\r\n",
        "x_min, x_max = X[:, 0].min() - 1, X[:, 0].max() + 1\r\n",
        "y_min, y_max = X[:, 1].min() - 1, X[:, 1].max() + 1\r\n",
        "print(x_min, x_max, y_min, y_max)\r\n",
        "xx, yy = np.meshgrid(np.arange(x_min, x_max, h),\r\n",
        "                     np.arange(y_min, y_max, h))\r\n",
        "\r\n",
        "# title for the plots\r\n",
        "titles =  ['SVC with poly1 kernel',\r\n",
        "           'SVC with poly5 kernel']\r\n",
        "\r\n",
        "y_bin = []\r\n",
        "for el in outputs:\r\n",
        "  if el == 'normal':\r\n",
        "    y_bin.append(0)\r\n",
        "  else:\r\n",
        "    y_bin.append(1)\r\n",
        "\r\n",
        "for i, clf in enumerate((poly1_svc, poly5_svc)):\r\n",
        "    # Plot the decision boundary. For that, we will assign a color to each\r\n",
        "    # point in the mesh [x_min, x_max]x[y_min, y_max].\r\n",
        "    plt.subplot(1, 2, i + 1)\r\n",
        "    plt.subplots_adjust(wspace=0.4, hspace=0.4)\r\n",
        "\r\n",
        "    Z = clf.predict(np.c_[xx.ravel(), yy.ravel()])\r\n",
        "    ZZ = []\r\n",
        "    for el in Z:\r\n",
        "      if (el == 'normal'):\r\n",
        "        ZZ.append([0])\r\n",
        "      else:\r\n",
        "        ZZ.append([1])\r\n",
        "    ZZ = np.array(ZZ)\r\n",
        "    # Put the result into a color plot\r\n",
        "    ZZ = ZZ.reshape(xx.shape)\r\n",
        "    plt.contourf(xx, yy, ZZ, cmap=plt.cm.coolwarm, alpha=0.8)\r\n",
        "\r\n",
        "    # Plot also the training points\r\n",
        "    plt.scatter(X[:, 0], X[:, 1], c=y_bin, cmap=plt.cm.coolwarm)\r\n",
        "    plt.xlabel('MaxIP')\r\n",
        "    plt.ylabel('Area')\r\n",
        "    plt.xlim(xx.min(), xx.max())\r\n",
        "    plt.ylim(yy.min(), yy.max())\r\n",
        "    plt.xticks(())\r\n",
        "    plt.yticks(())\r\n",
        "    plt.title(titles[i])\r\n",
        "\r\n",
        "plt.show()\r\n",
        "\r\n"
      ],
      "outputs": [
        {
          "output_type": "stream",
          "name": "stdout",
          "text": [
            "6.968783379 437.0996399 69.42623881 174481.4762\n"
          ]
        },
        {
          "output_type": "display_data",
          "data": {
            "image/png": "[encoded data removed]",
            "text/plain": [
              "<Figure size 432x288 with 2 Axes>"
            ]
          },
          "metadata": {}
        }
      ],
      "metadata": {
        "colab": {
          "base_uri": "https://localhost:8080/",
          "height": 295
        },
        "id": "SWPe1K861LZr",
        "outputId": "2384c927-8452-49af-b8fc-214c2ede2ec2"
      }
    },
    {
      "cell_type": "markdown",
      "source": [
        "### Utilizarea unui model de predictie"
      ],
      "metadata": {
        "id": "Fr9W7ECMs6c7"
      }
    },
    {
      "cell_type": "code",
      "execution_count": 13,
      "source": [
        "#@title run the code below from preparing sone testing data\r\n",
        "\r\n",
        "# normal, pathological, normal\r\n",
        "testData = [[59.5, 280.5], [61, 3039.5], [60, 305]]"
      ],
      "outputs": [],
      "metadata": {
        "id": "RWbWG_Bns6c8",
        "cellView": "form"
      }
    },
    {
      "cell_type": "code",
      "execution_count": 14,
      "source": [
        "#@title run the code below for predicting the tissue type for previous prepared data\r\n",
        "\r\n",
        "predictions = poly1_svc.predict(testData)\r\n",
        "print('computed labels:    ', predictions)\r\n",
        "print('ground truth labels: [\\'normal\\', \\'pathological\\', \\'normal\\']')\r\n",
        "\r\n",
        "if (noFeatures == 2):\r\n",
        "    plotPredictions([216.5, 300, 291.5], [280.5, 3039.5, 305], ['normal', 'pathological', 'normal'], predictions, \"real test data\", featureNames, ['normal', 'pathological'])"
      ],
      "outputs": [
        {
          "output_type": "stream",
          "name": "stdout",
          "text": [
            "computed labels:     ['pathological' 'pathological' 'pathological']\n",
            "ground truth labels: ['normal', 'pathological', 'normal']\n"
          ]
        },
        {
          "output_type": "display_data",
          "data": {
            "image/png": "[encoded data removed]",
            "text/plain": [
              "<Figure size 432x288 with 1 Axes>"
            ]
          },
          "metadata": {
            "needs_background": "light"
          }
        }
      ],
      "metadata": {
        "colab": {
          "base_uri": "https://localhost:8080/",
          "height": 330
        },
        "id": "MjIQFXzms6c8",
        "cellView": "form",
        "outputId": "e50a9d3c-9bbf-4546-9906-a22bacb82773"
      }
    },
    {
      "cell_type": "markdown",
      "source": [
        "## Clasificare folosind retele neuronale artificiale"
      ],
      "metadata": {
        "id": "BmUIrozp9aGk"
      }
    },
    {
      "cell_type": "markdown",
      "source": [
        "### Antrenarea unui model de predictie"
      ],
      "metadata": {
        "id": "4Hm2vXJ59aGl"
      }
    },
    {
      "cell_type": "code",
      "execution_count": 15,
      "source": [
        "#@title run the code below for training the classifier; the training error will be printed\r\n",
        "from sklearn.neural_network import MLPClassifier\r\n",
        "\r\n",
        "# please try another architecture\r\n",
        "# one hidden layer with 20 neurons (20, )\r\n",
        "# one hidden layer with 20 neurons, and another hidden layer with 10 neurons (20, 10, )\r\n",
        "classifier = MLPClassifier((20,10,))\r\n",
        "\r\n",
        "classifier.fit(inputs, outputs)\r\n",
        "computedOutputs = classifier.predict(inputs)\r\n",
        "error = 1 - accuracy_score(outputs, computedOutputs)\r\n",
        "print(\"classification training error: \", error)\r\n"
      ],
      "outputs": [
        {
          "output_type": "stream",
          "name": "stdout",
          "text": [
            "classification training error:  0.5283018867924528\n"
          ]
        }
      ],
      "metadata": {
        "colab": {
          "base_uri": "https://localhost:8080/"
        },
        "cellView": "form",
        "id": "ZyYg1_O09aGl",
        "outputId": "5064fd1b-74dd-4a70-e51f-7d56ada81829"
      }
    },
    {
      "cell_type": "markdown",
      "source": [
        "### Utilizarea unui model de predictie"
      ],
      "metadata": {
        "id": "Ti-AGDr_9aGm"
      }
    },
    {
      "cell_type": "code",
      "execution_count": 16,
      "source": [
        "#@title run the code below from preparing sone testing data\r\n",
        "\r\n",
        "# normal, pathological, normal\r\n",
        "testData = [[59.5, 280.5], [61, 3039.5], [60, 305]]"
      ],
      "outputs": [],
      "metadata": {
        "cellView": "form",
        "id": "aDNlcUT79aGm"
      }
    },
    {
      "cell_type": "code",
      "execution_count": 17,
      "source": [
        "#@title run the code below for predicting the tissue type for previous prepared data\r\n",
        "\r\n",
        "predictions = classifier.predict(testData)\r\n",
        "print('computed labels:    ', predictions)\r\n",
        "print('ground truth labels: [\\'normal\\', \\'pathological\\', \\'normal\\']')\r\n",
        "\r\n",
        "if (noFeatures == 2):\r\n",
        "    plotPredictions([216.5, 300, 291.5], [280.5, 3039.5, 305], ['normal', 'pathological', 'normal'], predictions, \"real test data\", featureNames, ['normal', 'pathological'])"
      ],
      "outputs": [
        {
          "output_type": "stream",
          "name": "stdout",
          "text": [
            "computed labels:     ['pathological' 'normal' 'pathological']\n",
            "ground truth labels: ['normal', 'pathological', 'normal']\n"
          ]
        },
        {
          "output_type": "display_data",
          "data": {
            "image/png": "[encoded data removed]",
            "text/plain": [
              "<Figure size 432x288 with 1 Axes>"
            ]
          },
          "metadata": {
            "needs_background": "light"
          }
        }
      ],
      "metadata": {
        "colab": {
          "base_uri": "https://localhost:8080/",
          "height": 330
        },
        "cellView": "form",
        "id": "4AGroFRE9aGm",
        "outputId": "38e80ed2-fbad-4bf0-c8ef-f3f5cc4441eb"
      }
    }
  ]
}