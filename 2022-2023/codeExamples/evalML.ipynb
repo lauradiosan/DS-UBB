{
 "nbformat": 4,
 "nbformat_minor": 2,
 "metadata": {
  "language_info": {
   "name": "python",
   "version": "3.7.2",
   "mimetype": "text/x-python",
   "codemirror_mode": {
    "name": "ipython",
    "version": 3
   },
   "pygments_lexer": "ipython3",
   "nbconvert_exporter": "python",
   "file_extension": ".py"
  },
  "orig_nbformat": 2,
  "file_extension": ".py",
  "mimetype": "text/x-python",
  "name": "python",
  "npconvert_exporter": "python",
  "pygments_lexer": "ipython3",
  "version": 3,
  "kernelspec": {
   "name": "python3",
   "display_name": "Python 3.7.2 64-bit"
  },
  "interpreter": {
   "hash": "b15e34aad66e9e3b527f162cfcae96454e420cf4f38bc5947ead173934d3535a"
  }
 },
 "cells": [
  {
   "cell_type": "markdown",
   "source": [
    "# ML algorithms - Performance evaluation\n",
    "\n",
    "## Learning objectives\n",
    "* understanding the metrics used for regression problems and for classification problems\n",
    "\n",
    "## Ker terms:\n",
    "* prediction error \n",
    "* accuracy\n",
    "* precision\n",
    "* recall\n",
    "* confusion matrix\n",
    "\n",
    "# Requirements \n",
    "* compute the prediction performance in the case of a regression problem\n",
    "* compute the prediction performance in the case of a binary classification problem (balanced dataset and unbalanced dataset)\n",
    "* compute the prediction performance in the case of a binary classification problem (when the computed outputs are represented as probabilities - a $noSamples \\times noClasses$ values)"
   ],
   "metadata": {}
  },
  {
   "cell_type": "markdown",
   "source": [
    "## Regression problems\n",
    "In a regression problem, the outputs of a prediction algorithm are represented by real values. \n",
    "For instance, we want to estimate the icecream consumption (in a camp) according to the temperature and the number of children in a camp.\n",
    "\n",
    "Suppose that an ML algorithm has provided, for a set of camps (known as set of inputs or set of samples), a set of icecream consumption (known as set of outputs) $computedOutputs$. The real icecream consumption are also known ($realOutputs$). Determine the algorithm's performance.\n",
    "\n",
    "A possible performance measure is given by the prediction error expressed as sum of the distances between the real outputs and the predicted outputs. The distance, for each sample, can be measured as:\n",
    "* the absolute difference  (this is $L_1$ distance):\n",
    "$$Error = \\sum_{i=1}^{noSamples} |realOutputs_i - computedOutputs_i|$$\n",
    "* the square difference (this is the $L_2$ distance):\n",
    "$$Error = \\sum_{i=1}^{noSamples} (realOutputs_i- computedOutputs_i) ^ 2$$ \n"
   ],
   "metadata": {}
  },
  {
   "cell_type": "code",
   "execution_count": 1,
   "source": [
    "# consider some real values and some predicted values (obtained by the ML algorithm)\r\n",
    "\r\n",
    "realOutputs =     [3, 9.5, 4,   5.1, 6, 7.2, 2, 1]\r\n",
    "computedOutputs = [2, 7,   4.5, 6,   3, 8,   3, 1.2]\r\n",
    "\r\n",
    "# plot the data\r\n",
    "import matplotlib.pyplot as plt\r\n",
    "\r\n",
    "indexes = [i for i in range(len(realOutputs))]\r\n",
    "real, = plt.plot(indexes, realOutputs, 'ro', label = 'real')\r\n",
    "computed, = plt.plot(indexes, computedOutputs, 'bo', label = 'computed')\r\n",
    "plt.xlim(0,8)\r\n",
    "plt.ylim(0, 10)\r\n",
    "plt.legend([real, (real, computed)], [\"Real\", \"Computed\"])\r\n",
    "plt.show()\r\n"
   ],
   "outputs": [
    {
     "output_type": "display_data",
     "data": {
      "image/png": "[encoded data removed]",
      "text/plain": [
       "<Figure size 432x288 with 1 Axes>"
      ]
     },
     "metadata": {
      "needs_background": "light"
     }
    }
   ],
   "metadata": {}
  },
  {
   "cell_type": "code",
   "execution_count": 2,
   "source": [
    "# compute the prediction error\r\n",
    "from math import sqrt\r\n",
    "\r\n",
    "errorL1 = sum(abs(r - c) for r, c in zip(realOutputs, computedOutputs))\r\n",
    "print('Error (L1): ', errorL1)\r\n",
    "\r\n",
    "errorL2 = sqrt(sum((r - c) ** 2 for r, c in zip(realOutputs, computedOutputs)))\r\n",
    "print('Error (L2): ', errorL2)"
   ],
   "outputs": [
    {
     "output_type": "stream",
     "name": "stdout",
     "text": [
      "Error (L1):  9.899999999999999\n",
      "Error (L2):  4.357751713900186\n"
     ]
    }
   ],
   "metadata": {}
  },
  {
   "cell_type": "markdown",
   "source": [
    "## Classification problems\n",
    "If we deal by a binary classification problem, the outputs represent some labels. There are possible two labels, only (one for each class or output type). Suppose that class 1 is the positive class, while class 2 is the negative class. For instance, if we want to classify the emails into spam or ham messages, *spam* and *ham* are the two classes.\n",
    "\n",
    "An ML algorithm has provided, for a set of emails (known as set of inputs or set of samples), a set of spam/ham labels (known as set of outputs) $computedOutputs$. The real labels are also known $realOutputs$. Determine the algorithm's performance. \n",
    "\n",
    "Three performance measures are usefull for a classification problem: accuracy, precision, recall. Some pre-computations, enclosed in the confusion matrix are useful: \n",
    "* true positive \n",
    "* false positive\n",
    "* true negative\n",
    "* false negative\n",
    "\n",
    "The confusion matrix has the form: <img src=\"images/cm.png\" width=\"200\">\n",
    "* accuracy represents the overall performance of classification model: \n",
    "$$acc = \\frac{TP + TN}{TP + TN + FP + FN} = \\frac{correc predicted}{no of all samples}$$\n",
    "* precision indicates how accurate the positive predictions are: \n",
    "$$precision = \\frac{TP}{TP+FP}$$\n",
    "* recall indicates the coverage of actual positive sample: \n",
    "$$recall = \\frac{TP}{TP+FN}$$"
   ],
   "metadata": {}
  },
  {
   "cell_type": "code",
   "execution_count": 3,
   "source": [
    "# a balanced data set (each class containes the same numer of samples)\r\n",
    "\r\n",
    "realLabels =        ['spam', 'spam', 'ham', 'ham', 'spam', 'ham']\r\n",
    "computedLabels =    ['spam', 'ham', 'ham', 'spam', 'spam', 'ham']\r\n",
    "\r\n",
    "\r\n",
    "\r\n",
    "# suppose that 'spam' is the positive class (and 'ham' is the negative class)\r\n",
    "# compute the prediction performance\r\n",
    "\r\n",
    "# version 1 - using the sklearn functions\r\n",
    "def evalClassificationV1(realLabels, computedLabels, labelNames):\r\n",
    "    from sklearn.metrics import confusion_matrix, accuracy_score, precision_score, recall_score\r\n",
    "\r\n",
    "    cm = confusion_matrix(realLabels, computedLabels, labels = labelNames)\r\n",
    "    acc = accuracy_score(realLabels, computedLabels)\r\n",
    "    precision = precision_score(realLabels, computedLabels, average = None, labels = labelNames)\r\n",
    "    recall = recall_score(realLabels, computedLabels, average = None, labels = labelNames)\r\n",
    "    return acc, precision, recall \r\n",
    "\r\n",
    "# version 2 - native code\r\n",
    "def evalClassificationV2(realLabels, computedLabels, pos, neg):\r\n",
    "    # noCorrect = 0\r\n",
    "    # for i in range(0, len(realLabels)):\r\n",
    "    #     if (realLabels[i] == computedLabels[i]):\r\n",
    "    #         noCorrect += 1\r\n",
    "    # acc = noCorrect / len(realLabels)\r\n",
    "    acc = sum([1 if realLabels[i] == computedLabels[i] else 0 for i in range(0, len(realLabels))]) / len(realLabels)\r\n",
    "\r\n",
    "    # TP = 0\r\n",
    "    # for i in range(0, len(realLabels)):\r\n",
    "    #     if (realLabels[i] == 'spam' and computedLabels[i] == 'spam'):\r\n",
    "    #         TP += 1\r\n",
    "    TP = sum([1 if (realLabels[i] == pos and computedLabels[i] == pos) else 0 for i in range(len(realLabels))])\r\n",
    "    FP = sum([1 if (realLabels[i] == neg and computedLabels[i] == pos) else 0  for i in range(len(realLabels))])\r\n",
    "    TN = sum([1 if (realLabels[i] == neg and computedLabels[i] == neg) else 0 for i in range(len(realLabels))])\r\n",
    "    FN = sum([1 if (realLabels[i] == pos and computedLabels[i] == neg) else 0  for i in range(len(realLabels))])\r\n",
    "\r\n",
    "    precisionPos = TP / (TP + FP)\r\n",
    "    recallPos = TP / (TP + FN)\r\n",
    "    precisionNeg = TN / (TN + FN)\r\n",
    "    recallNeg = TN / (TN + FP)\r\n",
    "\r\n",
    "    return acc, precisionPos, precisionNeg, recallPos, recallNeg\r\n",
    "    \r\n",
    "acc, prec, recall = evalClassificationV1(realLabels, computedLabels, ['spam', 'ham'])\r\n",
    "\r\n",
    "# # # acc, prec, recall = evalClassificationV2(realLabels, computedLabels, 'spam', 'ham')\r\n",
    "\r\n",
    "# # print('acc: ', acc, ' precision: ', prec, ' recall: ', recall)\r\n",
    "\r\n",
    "\r\n",
    "# realLabels =        ['spam', 'spam', 'spam', 'spam', 'spam', 'spam']\r\n",
    "# computedLabels =    ['spam', 'ham', 'ham', 'spam', 'spam', 'new']\r\n",
    "\r\n",
    "\r\n",
    "\r\n",
    "# acc, prec, recall = evalClassificationV1(realLabels, computedLabels, ['spam', 'ham', 'new'])\r\n",
    "\r\n",
    "# # acc, prec, recall = evalClassificationV2(realLabels, computedLabels, 'spam', 'ham')\r\n",
    "\r\n",
    "print('acc: ', acc, ' precision: ', prec, ' recall: ', recall)"
   ],
   "outputs": [
    {
     "output_type": "stream",
     "name": "stdout",
     "text": [
      "acc:  0.6666666666666666  precision:  [0.66666667 0.66666667]  recall:  [0.66666667 0.66666667]\n"
     ]
    }
   ],
   "metadata": {}
  },
  {
   "cell_type": "code",
   "execution_count": 4,
   "source": [
    "# an unbalanced data set (the numer of samples from each class are not uniform distributed)\r\n",
    "\r\n",
    "realLabels =        ['infected', 'infected', 'infected', 'infected', 'normal', 'normal', 'normal', 'normal', 'normal','normal', 'normal', 'normal', 'normal', 'normal', 'normal']\r\n",
    "computedLabels =    ['infected', 'infected', 'normal', 'normal', 'normal', 'normal','normal', 'normal', 'normal', 'normal', 'normal', 'normal', 'normal', 'normal', 'infected']\r\n",
    "\r\n",
    "acc, prec, recall = evalClassificationV1(realLabels, computedLabels, ['infected', 'normal'])\r\n",
    "# acc, prec, recall = evalClassificationV2(realLabels, computedLabels, 'infected', 'normal')\r\n",
    "\r\n",
    "print('acc: ', acc, ' precision: ', prec, ' recall: ', recall)\r\n"
   ],
   "outputs": [
    {
     "output_type": "stream",
     "name": "stdout",
     "text": [
      "acc:  0.8  precision:  [0.66666667 0.83333333]  recall:  [0.5        0.90909091]\n"
     ]
    }
   ],
   "metadata": {}
  },
  {
   "cell_type": "markdown",
   "source": [
    "# Classification and probabilities\n",
    "\n",
    "What happens if the classification algorithm's **outputs represents probabilities**\n",
    "\n",
    "In this case, for each sample, $noClasses$ probabilities are computed (such as the summ of probabilities for a sample is 1). Remember that in the case of a binary classification problems ($noClasses$ = 2)\n",
    "\n",
    "$computedOutputs = [(p_{11}, p_{12}), (p_{21}, p_{22}), ..., (p_{n1}, p_{n2})]$\n",
    "\n",
    "where $p_{ij}$ is the probability that the sample $i$ belongs to class $j$ and $n$ is the number of samples\n",
    "\n",
    "The corresponding label is indicated by the largest probability\n",
    "\n",
    "$computedLabels = [argmax(p_{1j}), argmax(p_{2j}), ..., argmax(p_{nj}),$ where $j \\in \\{1, 2, .., noClasses\\}$\n"
   ],
   "metadata": {}
  },
  {
   "cell_type": "code",
   "execution_count": 5,
   "source": [
    "# if the rawOutputs of the ML algorithms are probabilities (not labels)\r\n",
    "realLabels =        ['spam', 'spam', 'ham', 'ham', 'spam', 'ham']\r\n",
    "computedOutputs = [ [0.7, 0.3], [0.2, 0.8], [0.4, 0.6], [0.9, 0.1], [0.7, 0.3], [0.4, 0.6]]\r\n",
    "# computedLabels have to be  ['spam', 'ham', 'ham', 'spam', 'spam', 'ham']\r\n",
    "\r\n",
    "# transform the raw outputs into labels\r\n",
    "\r\n",
    "# version 1 - native code\r\n",
    "computedLabels = []\r\n",
    "labelNames = list(set(realLabels))\r\n",
    "for p in computedOutputs:\r\n",
    "    probMaxPos = p.index(max(p))\r\n",
    "    label = labelNames[probMaxPos]\r\n",
    "    computedLabels.append(label)\r\n",
    "\r\n",
    "# version 2 - by using NumPy library\r\n",
    "# import numpy as np\r\n",
    "# labelNames = list(set(realLabels))\r\n",
    "# computedLabels = [labelNames[np.argmax(p)] for p in computedOutputs]\r\n",
    "\r\n",
    "# compute the performance\r\n",
    "acc, prec, recall = evalClassificationV1(realLabels, computedLabels, ['spam', 'ham'])\r\n",
    "\r\n",
    "print('acc: ', acc, ' precision: ', prec, ' recall: ', recall)\r\n"
   ],
   "outputs": [
    {
     "output_type": "stream",
     "name": "stdout",
     "text": [
      "acc:  0.6666666666666666  precision:  [0.66666667 0.66666667]  recall:  [0.66666667 0.66666667]\n"
     ]
    }
   ],
   "metadata": {}
  },
  {
   "cell_type": "markdown",
   "source": [
    "# Homework\n",
    "* compute the error in the case of a multi-target regression problem\n",
    "* compute the accuracy, precision, recall for a multi-class classification problem (computedOutputs are predicted labels)\n",
    "\n",
    "# Optional Homework\n",
    "* compute the loss in the case of a binary-classification problem (computed outputs are class probabilities - a matrix of $noSamples \\times noClasses$ real values, each line having sum 1)\n",
    "* compute the loss in the case of a multi-class classification problem (computed outputs are $noClasses$ real values)\n",
    "* compute the loss in the case of a multi-label classification problem (computed outputs are $noClasses$ real values)"
   ],
   "metadata": {}
  }
 ]
}